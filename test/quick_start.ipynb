{
 "cells": [
  {
   "cell_type": "code",
   "execution_count": 1,
   "metadata": {},
   "outputs": [
    {
     "name": "stdout",
     "output_type": "stream",
     "text": [
      "Requirement already satisfied: langchain in /Users/cx/Work/python/chatkg/venv/lib/python3.9/site-packages (0.0.201)\n",
      "Requirement already satisfied: PyYAML>=5.4.1 in /Users/cx/Work/python/chatkg/venv/lib/python3.9/site-packages (from langchain) (6.0)\n",
      "Requirement already satisfied: SQLAlchemy<3,>=1.4 in /Users/cx/Work/python/chatkg/venv/lib/python3.9/site-packages (from langchain) (2.0.16)\n",
      "Requirement already satisfied: async-timeout<5.0.0,>=4.0.0 in /Users/cx/Work/python/chatkg/venv/lib/python3.9/site-packages (from langchain) (4.0.2)\n",
      "Requirement already satisfied: numpy<2,>=1 in /Users/cx/Work/python/chatkg/venv/lib/python3.9/site-packages (from langchain) (1.24.3)\n",
      "Requirement already satisfied: openapi-schema-pydantic<2.0,>=1.2 in /Users/cx/Work/python/chatkg/venv/lib/python3.9/site-packages (from langchain) (1.2.4)\n",
      "Requirement already satisfied: pydantic<2,>=1 in /Users/cx/Work/python/chatkg/venv/lib/python3.9/site-packages (from langchain) (1.10.9)\n",
      "Requirement already satisfied: numexpr<3.0.0,>=2.8.4 in /Users/cx/Work/python/chatkg/venv/lib/python3.9/site-packages (from langchain) (2.8.4)\n",
      "Requirement already satisfied: requests<3,>=2 in /Users/cx/Work/python/chatkg/venv/lib/python3.9/site-packages (from langchain) (2.30.0)\n",
      "Requirement already satisfied: aiohttp<4.0.0,>=3.8.3 in /Users/cx/Work/python/chatkg/venv/lib/python3.9/site-packages (from langchain) (3.8.4)\n",
      "Requirement already satisfied: dataclasses-json<0.6.0,>=0.5.7 in /Users/cx/Work/python/chatkg/venv/lib/python3.9/site-packages (from langchain) (0.5.8)\n",
      "Requirement already satisfied: tenacity<9.0.0,>=8.1.0 in /Users/cx/Work/python/chatkg/venv/lib/python3.9/site-packages (from langchain) (8.2.2)\n",
      "Requirement already satisfied: langchainplus-sdk>=0.0.9 in /Users/cx/Work/python/chatkg/venv/lib/python3.9/site-packages (from langchain) (0.0.10)\n",
      "Requirement already satisfied: charset-normalizer<4.0,>=2.0 in /Users/cx/Work/python/chatkg/venv/lib/python3.9/site-packages (from aiohttp<4.0.0,>=3.8.3->langchain) (3.1.0)\n",
      "Requirement already satisfied: multidict<7.0,>=4.5 in /Users/cx/Work/python/chatkg/venv/lib/python3.9/site-packages (from aiohttp<4.0.0,>=3.8.3->langchain) (6.0.4)\n",
      "Requirement already satisfied: frozenlist>=1.1.1 in /Users/cx/Work/python/chatkg/venv/lib/python3.9/site-packages (from aiohttp<4.0.0,>=3.8.3->langchain) (1.3.3)\n",
      "Requirement already satisfied: aiosignal>=1.1.2 in /Users/cx/Work/python/chatkg/venv/lib/python3.9/site-packages (from aiohttp<4.0.0,>=3.8.3->langchain) (1.3.1)\n",
      "Requirement already satisfied: attrs>=17.3.0 in /Users/cx/Work/python/chatkg/venv/lib/python3.9/site-packages (from aiohttp<4.0.0,>=3.8.3->langchain) (23.1.0)\n",
      "Requirement already satisfied: yarl<2.0,>=1.0 in /Users/cx/Work/python/chatkg/venv/lib/python3.9/site-packages (from aiohttp<4.0.0,>=3.8.3->langchain) (1.9.2)\n",
      "Requirement already satisfied: marshmallow-enum<2.0.0,>=1.5.1 in /Users/cx/Work/python/chatkg/venv/lib/python3.9/site-packages (from dataclasses-json<0.6.0,>=0.5.7->langchain) (1.5.1)\n",
      "Requirement already satisfied: typing-inspect>=0.4.0 in /Users/cx/Work/python/chatkg/venv/lib/python3.9/site-packages (from dataclasses-json<0.6.0,>=0.5.7->langchain) (0.9.0)\n",
      "Requirement already satisfied: marshmallow<4.0.0,>=3.3.0 in /Users/cx/Work/python/chatkg/venv/lib/python3.9/site-packages (from dataclasses-json<0.6.0,>=0.5.7->langchain) (3.19.0)\n",
      "Requirement already satisfied: packaging>=17.0 in /Users/cx/Work/python/chatkg/venv/lib/python3.9/site-packages (from marshmallow<4.0.0,>=3.3.0->dataclasses-json<0.6.0,>=0.5.7->langchain) (23.1)\n",
      "Requirement already satisfied: typing-extensions>=4.2.0 in /Users/cx/Work/python/chatkg/venv/lib/python3.9/site-packages (from pydantic<2,>=1->langchain) (4.5.0)\n",
      "Requirement already satisfied: urllib3<3,>=1.21.1 in /Users/cx/Work/python/chatkg/venv/lib/python3.9/site-packages (from requests<3,>=2->langchain) (2.0.2)\n",
      "Requirement already satisfied: idna<4,>=2.5 in /Users/cx/Work/python/chatkg/venv/lib/python3.9/site-packages (from requests<3,>=2->langchain) (3.4)\n",
      "Requirement already satisfied: certifi>=2017.4.17 in /Users/cx/Work/python/chatkg/venv/lib/python3.9/site-packages (from requests<3,>=2->langchain) (2023.5.7)\n",
      "Requirement already satisfied: greenlet!=0.4.17 in /Users/cx/Work/python/chatkg/venv/lib/python3.9/site-packages (from SQLAlchemy<3,>=1.4->langchain) (2.0.2)\n",
      "Requirement already satisfied: mypy-extensions>=0.3.0 in /Users/cx/Work/python/chatkg/venv/lib/python3.9/site-packages (from typing-inspect>=0.4.0->dataclasses-json<0.6.0,>=0.5.7->langchain) (1.0.0)\n",
      "\u001b[33mWARNING: You are using pip version 21.1.3; however, version 23.1.2 is available.\n",
      "You should consider upgrading via the '/Users/cx/Work/python/chatkg/venv/bin/python -m pip install --upgrade pip' command.\u001b[0m\n",
      "Note: you may need to restart the kernel to use updated packages.\n"
     ]
    }
   ],
   "source": [
    "%pip install langchain"
   ]
  },
  {
   "cell_type": "code",
   "execution_count": 2,
   "metadata": {},
   "outputs": [
    {
     "name": "stdout",
     "output_type": "stream",
     "text": [
      "Requirement already satisfied: openapi in /Users/cx/Work/python/chatkg/venv/lib/python3.9/site-packages (1.1.0)\n",
      "Requirement already satisfied: inflection>=0.3.1 in /Users/cx/Work/python/chatkg/venv/lib/python3.9/site-packages (from openapi) (0.5.1)\n",
      "Requirement already satisfied: jsonschema>=2.6.0 in /Users/cx/Work/python/chatkg/venv/lib/python3.9/site-packages (from openapi) (4.17.3)\n",
      "Requirement already satisfied: pyrsistent!=0.17.0,!=0.17.1,!=0.17.2,>=0.14.0 in /Users/cx/Work/python/chatkg/venv/lib/python3.9/site-packages (from jsonschema>=2.6.0->openapi) (0.19.3)\n",
      "Requirement already satisfied: attrs>=17.4.0 in /Users/cx/Work/python/chatkg/venv/lib/python3.9/site-packages (from jsonschema>=2.6.0->openapi) (23.1.0)\n",
      "\u001b[33mWARNING: You are using pip version 21.1.3; however, version 23.1.2 is available.\n",
      "You should consider upgrading via the '/Users/cx/Work/python/chatkg/venv/bin/python -m pip install --upgrade pip' command.\u001b[0m\n",
      "Note: you may need to restart the kernel to use updated packages.\n"
     ]
    }
   ],
   "source": [
    "%pip install openapi"
   ]
  },
  {
   "cell_type": "code",
   "execution_count": 3,
   "metadata": {},
   "outputs": [],
   "source": [
    "import openai\n",
    "\n",
    "import os\n",
    "import dotenv\n",
    "\n",
    "env_file = '../.env'\n",
    "dotenv.load_dotenv(env_file, override=True)\n",
    "\n",
    "OPENAI_API_KEY = os.environ.get(\"OPENAI_API_KEY\")\n",
    "OPENAI_ENDPOINT  = os.environ.get(\"OPENAI_ENDPOINT\")\n",
    "OPENAI_API_VERSION  = os.environ.get(\"OPENAI_API_VERSION\")\n",
    "OPENAI_API_TYPE  = os.environ.get(\"OPENAI_API_TYPE\")\n",
    "\n",
    "openai.api_type = OPENAI_API_TYPE\n",
    "openai.api_base = OPENAI_ENDPOINT\n",
    "openai.api_version = OPENAI_API_VERSION\n",
    "openai.api_key = OPENAI_API_KEY"
   ]
  },
  {
   "attachments": {},
   "cell_type": "markdown",
   "metadata": {},
   "source": [
    "# Building A language Model Application\n",
    "\n",
    "### LLMS: Get predictions from a language model"
   ]
  },
  {
   "cell_type": "code",
   "execution_count": 4,
   "metadata": {},
   "outputs": [],
   "source": [
    "from langchain.llms import OpenAI"
   ]
  },
  {
   "cell_type": "code",
   "execution_count": 5,
   "metadata": {},
   "outputs": [
    {
     "name": "stderr",
     "output_type": "stream",
     "text": [
      "WARNING! engine is not default parameter.\n",
      "                    engine was transferred to model_kwargs.\n",
      "                    Please confirm that engine is what you intended.\n"
     ]
    }
   ],
   "source": [
    "llm = OpenAI(\n",
    "    temperature=0.9,\n",
    "    engine=\"asdavinci003\",\n",
    "    openai_api_key=OPENAI_API_KEY,\n",
    "    openai_api_base=OPENAI_ENDPOINT,\n",
    "    max_tokens=250,\n",
    "    lc_kwargs={\n",
    "        \"openai_api_type\": OPENAI_API_TYPE\n",
    "        },\n",
    "    )"
   ]
  },
  {
   "cell_type": "code",
   "execution_count": 6,
   "metadata": {},
   "outputs": [
    {
     "name": "stdout",
     "output_type": "stream",
     "text": [
      "\n",
      "\n",
      "1. Beijing, China \n",
      "2. Kaohsiung, Taiwan \n",
      "3. Bangkok, Thailand \n",
      "4. Seoul, South Korea \n",
      "5. Hong Kong, China\n"
     ]
    }
   ],
   "source": [
    "text = \"What are 5 vacation destinations for someone who likes to eat beef noodles?\"\n",
    "print(llm(text))"
   ]
  },
  {
   "attachments": {},
   "cell_type": "markdown",
   "metadata": {},
   "source": [
    "### Prompt Templates: Manage prompts for LLMs"
   ]
  },
  {
   "cell_type": "code",
   "execution_count": 7,
   "metadata": {},
   "outputs": [],
   "source": [
    "from langchain.prompts import PromptTemplate\n",
    "prompt = PromptTemplate(\n",
    "    input_variables=[\"food\"],\n",
    "    template=\"What are 5 vacation destinations for someone who likes to eat {food}?\",\n",
    ")"
   ]
  },
  {
   "cell_type": "code",
   "execution_count": 8,
   "metadata": {},
   "outputs": [
    {
     "name": "stdout",
     "output_type": "stream",
     "text": [
      "What are 5 vacation destinations for someone who likes to eat beef noodles?\n",
      "\n",
      "\n",
      "1. Tokyo, Japan  \n",
      "2. Osaka, Japan  \n",
      "3. Honolulu, Hawaii  \n",
      "4. Vancouver, Canada  \n",
      "5. San Francisco, USA\n"
     ]
    }
   ],
   "source": [
    "print(prompt.format(food=\"beef noodles\"))\n",
    "print(llm(prompt.format(food=\"sushi\")))"
   ]
  },
  {
   "attachments": {},
   "cell_type": "markdown",
   "metadata": {},
   "source": [
    "### Chains: Combine LLMs and prompts in multi-step workflows"
   ]
  },
  {
   "cell_type": "code",
   "execution_count": 9,
   "metadata": {},
   "outputs": [
    {
     "name": "stdout",
     "output_type": "stream",
     "text": [
      "\n",
      "\n",
      "1. Taiwan - Famous for its beef noodle soup\n",
      "2. China - Home to many types of noodle dishes with beef\n",
      "3. Japan - Offers a variety of beef noodle dishes\n",
      "4. Thailand - Beef noodle soup is a popular street food\n",
      "5. Singapore - The local favorite dish is called \"Beef Kway Teow,\" a noodle dish with strips of beef.\n"
     ]
    }
   ],
   "source": [
    "from langchain.chains import LLMChain\n",
    "\n",
    "prompt = PromptTemplate(\n",
    "    input_variables=[\"food\"],\n",
    "    template=\"What are 5 vacation destinations for someone who likes to eat {food}?\",\n",
    ")\n",
    "\n",
    "chain = LLMChain(llm=llm, prompt=prompt)\n",
    "print(chain.run(food=\"beef noodles\"))"
   ]
  },
  {
   "attachments": {},
   "cell_type": "markdown",
   "metadata": {},
   "source": [
    "### Agents: Dynamically call chains based on user input"
   ]
  },
  {
   "cell_type": "code",
   "execution_count": 12,
   "metadata": {},
   "outputs": [
    {
     "name": "stdout",
     "output_type": "stream",
     "text": [
      "Requirement already satisfied: google-search-results in /Users/cx/Work/python/chatkg/venv/lib/python3.9/site-packages (2.4.2)\n",
      "Requirement already satisfied: requests in /Users/cx/Work/python/chatkg/venv/lib/python3.9/site-packages (from google-search-results) (2.30.0)\n",
      "Requirement already satisfied: urllib3<3,>=1.21.1 in /Users/cx/Work/python/chatkg/venv/lib/python3.9/site-packages (from requests->google-search-results) (2.0.2)\n",
      "Requirement already satisfied: certifi>=2017.4.17 in /Users/cx/Work/python/chatkg/venv/lib/python3.9/site-packages (from requests->google-search-results) (2023.5.7)\n",
      "Requirement already satisfied: charset-normalizer<4,>=2 in /Users/cx/Work/python/chatkg/venv/lib/python3.9/site-packages (from requests->google-search-results) (3.1.0)\n",
      "Requirement already satisfied: idna<4,>=2.5 in /Users/cx/Work/python/chatkg/venv/lib/python3.9/site-packages (from requests->google-search-results) (3.4)\n",
      "\u001b[33mWARNING: You are using pip version 21.1.3; however, version 23.1.2 is available.\n",
      "You should consider upgrading via the '/Users/cx/Work/python/chatkg/venv/bin/python -m pip install --upgrade pip' command.\u001b[0m\n",
      "Note: you may need to restart the kernel to use updated packages.\n"
     ]
    }
   ],
   "source": [
    "%pip install google-search-results"
   ]
  },
  {
   "cell_type": "code",
   "execution_count": 15,
   "metadata": {},
   "outputs": [
    {
     "name": "stderr",
     "output_type": "stream",
     "text": [
      "WARNING! engine is not default parameter.\n",
      "                    engine was transferred to model_kwargs.\n",
      "                    Please confirm that engine is what you intended.\n"
     ]
    }
   ],
   "source": [
    "import os\n",
    "from langchain.agents import load_tools\n",
    "from langchain.agents import initialize_agent\n",
    "# from langchain.llms import OpenAI\n",
    "\n",
    "llm = OpenAI(\n",
    "    temperature=0,\n",
    "    # engine=\"aschatgpt35\",\n",
    "    engine=\"asdavinci003\",\n",
    "    openai_api_key=OPENAI_API_KEY,\n",
    "    openai_api_base=OPENAI_ENDPOINT,\n",
    "    max_tokens=250,\n",
    "    lc_kwargs={\n",
    "        \"openai_api_type\": OPENAI_API_TYPE\n",
    "        },\n",
    "    )\n",
    "\n",
    "tools = load_tools([\"serpapi\", \"llm-math\"], llm=llm)"
   ]
  },
  {
   "cell_type": "code",
   "execution_count": 16,
   "metadata": {},
   "outputs": [],
   "source": [
    "agent = initialize_agent(tools, llm, agent=\"zero-shot-react-description\", verbose=True)"
   ]
  },
  {
   "cell_type": "code",
   "execution_count": 15,
   "metadata": {},
   "outputs": [
    {
     "name": "stdout",
     "output_type": "stream",
     "text": [
      "\n",
      "\n",
      "\u001b[1m> Entering new  chain...\u001b[0m\n"
     ]
    },
    {
     "name": "stdout",
     "output_type": "stream",
     "text": [
      "\u001b[32;1m\u001b[1;3m I need to find two pieces of information. I should use a search engine for the first question and a calculator for the second.\n",
      "Action: Search\n",
      "Action Input: \"leader of japan\"\u001b[0m\n",
      "Observation: \u001b[36;1m\u001b[1;3mFumio Kishida\u001b[0m\n",
      "Thought:\u001b[32;1m\u001b[1;3m I found the answer to the first question. Now I need to find the largest prime number smaller than the age.\n",
      "Action: Calculator\n",
      "Action Input: 61\u001b[0m\n",
      "Observation: \u001b[33;1m\u001b[1;3mAnswer: 61\u001b[0m\n",
      "Thought:\u001b[32;1m\u001b[1;3m I now know the final answer.\n",
      "Final Answer: Fumio Kishida, 61<|im_end|>\u001b[0m\n",
      "\n",
      "\u001b[1m> Finished chain.\u001b[0m\n"
     ]
    },
    {
     "data": {
      "text/plain": [
       "'Fumio Kishida, 61<|im_end|>'"
      ]
     },
     "execution_count": 15,
     "metadata": {},
     "output_type": "execute_result"
    }
   ],
   "source": [
    "agent.run(\"Who is the leader of Japan? What is the largest prime number that is smaller than the age?\")"
   ]
  },
  {
   "attachments": {},
   "cell_type": "markdown",
   "metadata": {},
   "source": []
  },
  {
   "cell_type": "code",
   "execution_count": 20,
   "metadata": {},
   "outputs": [
    {
     "name": "stdout",
     "output_type": "stream",
     "text": [
      "\n",
      "\n",
      "\u001b[1m> Entering new  chain...\u001b[0m\n",
      "\u001b[32;1m\u001b[1;3m I need to find the exact distance and if I can take a train.\n",
      "Action: Search\n",
      "Action Input: 从汉堡到上海的距离\u001b[0m\n",
      "Observation: \u001b[36;1m\u001b[1;3m抵达资讯 · 现在，有54 家航空公司运营，共汉堡机场家。 · 汉堡机场有前往37 个城市的直飞航班。 · 每周，会有至少173 趟国内航班和303 趟国际航班从汉堡机场出发。\u001b[0m\n",
      "Thought:\u001b[32;1m\u001b[1;3m I need to find out the exact distance and if I can take a train.\n",
      "Action: Search\n",
      "Action Input: 从汉堡到上海的火车时间\u001b[0m\n",
      "Observation: \u001b[36;1m\u001b[1;3m该列车从汉堡到上海的运输时间预计为16至18天。随着服务的常态化，每周将发运一列火车。10月期间，两个目的地之间将有四趟西行列车，而下一趟东行列车 ...\u001b[0m\n",
      "Thought:\u001b[32;1m\u001b[1;3m I now know the exact distance and that I can take a train.\n",
      "Final Answer: 从汉堡到上海的精确距离约为7,845公里，可以坐火车前往，大约需要16至18天的时间。\u001b[0m\n",
      "\n",
      "\u001b[1m> Finished chain.\u001b[0m\n"
     ]
    },
    {
     "data": {
      "text/plain": [
       "'从汉堡到上海的精确距离约为7,845公里，可以坐火车前往，大约需要16至18天的时间。'"
      ]
     },
     "execution_count": 20,
     "metadata": {},
     "output_type": "execute_result"
    }
   ],
   "source": [
    "agent.run(\"从汉堡到上海的精确距离是多少，我是否可以坐火车过去，请用中文回答我?\")"
   ]
  },
  {
   "attachments": {},
   "cell_type": "markdown",
   "metadata": {},
   "source": [
    "### Memory: Add state to chains and agents"
   ]
  },
  {
   "cell_type": "code",
   "execution_count": 19,
   "metadata": {},
   "outputs": [],
   "source": [
    "from langchain import OpenAI, ConversationChain"
   ]
  },
  {
   "cell_type": "code",
   "execution_count": 29,
   "metadata": {},
   "outputs": [
    {
     "name": "stderr",
     "output_type": "stream",
     "text": [
      "WARNING! engine is not default parameter.\n",
      "                    engine was transferred to model_kwargs.\n",
      "                    Please confirm that engine is what you intended.\n"
     ]
    }
   ],
   "source": [
    "llm = OpenAI(\n",
    "    temperature=0,\n",
    "    # engine=\"aschatgpt35\",\n",
    "    engine=\"asdavinci003\",\n",
    "    openai_api_key=OPENAI_API_KEY,\n",
    "    openai_api_base=OPENAI_ENDPOINT,\n",
    "    max_tokens=250,\n",
    "    lc_kwargs={\n",
    "        \"openai_api_type\": OPENAI_API_TYPE\n",
    "        },\n",
    "    )\n",
    "conversation = ConversationChain(llm=llm, verbose=True)"
   ]
  },
  {
   "cell_type": "code",
   "execution_count": 30,
   "metadata": {},
   "outputs": [
    {
     "name": "stdout",
     "output_type": "stream",
     "text": [
      "\n",
      "\n",
      "\u001b[1m> Entering new  chain...\u001b[0m\n",
      "Prompt after formatting:\n",
      "\u001b[32;1m\u001b[1;3mThe following is a friendly conversation between a human and an AI. The AI is talkative and provides lots of specific details from its context. If the AI does not know the answer to a question, it truthfully says it does not know.\n",
      "\n",
      "Current conversation:\n",
      "\n",
      "Human: Hi there!\n",
      "AI:\u001b[0m\n",
      "\n",
      "\u001b[1m> Finished chain.\u001b[0m\n"
     ]
    },
    {
     "data": {
      "text/plain": [
       "\" Hi there! It's nice to meet you. How can I help you today?\""
      ]
     },
     "execution_count": 30,
     "metadata": {},
     "output_type": "execute_result"
    }
   ],
   "source": [
    "conversation.predict(input=\"Hi there!\")"
   ]
  },
  {
   "cell_type": "code",
   "execution_count": 31,
   "metadata": {},
   "outputs": [
    {
     "name": "stdout",
     "output_type": "stream",
     "text": [
      "\n",
      "\n",
      "\u001b[1m> Entering new  chain...\u001b[0m\n",
      "Prompt after formatting:\n",
      "\u001b[32;1m\u001b[1;3mThe following is a friendly conversation between a human and an AI. The AI is talkative and provides lots of specific details from its context. If the AI does not know the answer to a question, it truthfully says it does not know.\n",
      "\n",
      "Current conversation:\n",
      "Human: Hi there!\n",
      "AI:  Hi there! It's nice to meet you. How can I help you today?\n",
      "Human: I'm doing well! Just having a conversation with AI.\n",
      "AI:\u001b[0m\n",
      "\n",
      "\u001b[1m> Finished chain.\u001b[0m\n"
     ]
    },
    {
     "data": {
      "text/plain": [
       "\" That's great! It's always nice to have a conversation with someone. What would you like to talk about?\""
      ]
     },
     "execution_count": 31,
     "metadata": {},
     "output_type": "execute_result"
    }
   ],
   "source": [
    "conversation.predict(input=\"I'm doing well! Just having a conversation with AI.\")"
   ]
  },
  {
   "cell_type": "code",
   "execution_count": 33,
   "metadata": {},
   "outputs": [
    {
     "name": "stdout",
     "output_type": "stream",
     "text": [
      "\n",
      "\n",
      "\u001b[1m> Entering new  chain...\u001b[0m\n",
      "Prompt after formatting:\n",
      "\u001b[32;1m\u001b[1;3mThe following is a friendly conversation between a human and an AI. The AI is talkative and provides lots of specific details from its context. If the AI does not know the answer to a question, it truthfully says it does not know.\n",
      "\n",
      "Current conversation:\n",
      "Human: Hi there!\n",
      "AI:  Hi there! It's nice to meet you. How can I help you today?\n",
      "Human: I'm doing well! Just having a conversation with AI.\n",
      "AI:  That's great! It's always nice to have a conversation with someone. What would you like to talk about?\n",
      "Human: What was the first thing I said to you？\n",
      "AI:  You said \"Hi there!\"\n",
      "Human: What was the first thing I said to you？\n",
      "AI:\u001b[0m\n",
      "\n",
      "\u001b[1m> Finished chain.\u001b[0m\n"
     ]
    },
    {
     "data": {
      "text/plain": [
       "' You said \"Hi there!\" Is there anything else I can help you with?'"
      ]
     },
     "execution_count": 33,
     "metadata": {},
     "output_type": "execute_result"
    }
   ],
   "source": [
    "conversation.predict(input=\"What was the first thing I said to you？\")"
   ]
  },
  {
   "cell_type": "code",
   "execution_count": 34,
   "metadata": {},
   "outputs": [
    {
     "name": "stdout",
     "output_type": "stream",
     "text": [
      "\n",
      "\n",
      "\u001b[1m> Entering new  chain...\u001b[0m\n",
      "Prompt after formatting:\n",
      "\u001b[32;1m\u001b[1;3mThe following is a friendly conversation between a human and an AI. The AI is talkative and provides lots of specific details from its context. If the AI does not know the answer to a question, it truthfully says it does not know.\n",
      "\n",
      "Current conversation:\n",
      "Human: Hi there!\n",
      "AI:  Hi there! It's nice to meet you. How can I help you today?\n",
      "Human: I'm doing well! Just having a conversation with AI.\n",
      "AI:  That's great! It's always nice to have a conversation with someone. What would you like to talk about?\n",
      "Human: What was the first thing I said to you？\n",
      "AI:  You said \"Hi there!\"\n",
      "Human: What was the first thing I said to you？\n",
      "AI:  You said \"Hi there!\" Is there anything else I can help you with?\n",
      "Human: What is an alternative phrase for the first thing I said?\n",
      "AI:\u001b[0m\n",
      "\n",
      "\u001b[1m> Finished chain.\u001b[0m\n"
     ]
    },
    {
     "data": {
      "text/plain": [
       "' An alternative phrase for the first thing you said is \"Greetings!\"'"
      ]
     },
     "execution_count": 34,
     "metadata": {},
     "output_type": "execute_result"
    }
   ],
   "source": [
    "conversation.predict(input=\"What is an alternative phrase for the first thing I said?\")"
   ]
  },
  {
   "cell_type": "code",
   "execution_count": 35,
   "metadata": {},
   "outputs": [
    {
     "name": "stdout",
     "output_type": "stream",
     "text": [
      "\n",
      "\n",
      "\u001b[1m> Entering new  chain...\u001b[0m\n",
      "Prompt after formatting:\n",
      "\u001b[32;1m\u001b[1;3mThe following is a friendly conversation between a human and an AI. The AI is talkative and provides lots of specific details from its context. If the AI does not know the answer to a question, it truthfully says it does not know.\n",
      "\n",
      "Current conversation:\n",
      "Human: Hi there!\n",
      "AI:  Hi there! It's nice to meet you. How can I help you today?\n",
      "Human: I'm doing well! Just having a conversation with AI.\n",
      "AI:  That's great! It's always nice to have a conversation with someone. What would you like to talk about?\n",
      "Human: What was the first thing I said to you？\n",
      "AI:  You said \"Hi there!\"\n",
      "Human: What was the first thing I said to you？\n",
      "AI:  You said \"Hi there!\" Is there anything else I can help you with?\n",
      "Human: What is an alternative phrase for the first thing I said?\n",
      "AI:  An alternative phrase for the first thing you said is \"Greetings!\"\n",
      "Human: 我们可以说中文吗？\n",
      "AI:\u001b[0m\n",
      "\n",
      "\u001b[1m> Finished chain.\u001b[0m\n"
     ]
    },
    {
     "data": {
      "text/plain": [
       "' 当然可以！我可以说一些简单的中文，但我的中文水平还不够高。你可以帮我学习更多的中文吗？'"
      ]
     },
     "execution_count": 35,
     "metadata": {},
     "output_type": "execute_result"
    }
   ],
   "source": [
    "conversation.predict(input=\"我们可以说中文吗？\")"
   ]
  },
  {
   "cell_type": "code",
   "execution_count": 36,
   "metadata": {},
   "outputs": [
    {
     "name": "stdout",
     "output_type": "stream",
     "text": [
      "\n",
      "\n",
      "\u001b[1m> Entering new  chain...\u001b[0m\n",
      "Prompt after formatting:\n",
      "\u001b[32;1m\u001b[1;3mThe following is a friendly conversation between a human and an AI. The AI is talkative and provides lots of specific details from its context. If the AI does not know the answer to a question, it truthfully says it does not know.\n",
      "\n",
      "Current conversation:\n",
      "Human: Hi there!\n",
      "AI:  Hi there! It's nice to meet you. How can I help you today?\n",
      "Human: I'm doing well! Just having a conversation with AI.\n",
      "AI:  That's great! It's always nice to have a conversation with someone. What would you like to talk about?\n",
      "Human: What was the first thing I said to you？\n",
      "AI:  You said \"Hi there!\"\n",
      "Human: What was the first thing I said to you？\n",
      "AI:  You said \"Hi there!\" Is there anything else I can help you with?\n",
      "Human: What is an alternative phrase for the first thing I said?\n",
      "AI:  An alternative phrase for the first thing you said is \"Greetings!\"\n",
      "Human: 我们可以说中文吗？\n",
      "AI:  当然可以！我可以说一些简单的中文，但我的中文水平还不够高。你可以帮我学习更多的中文吗？\n",
      "Human: 当然可以，我跟你说的第一句话用英文怎么说？\n",
      "AI:\u001b[0m\n",
      "\n",
      "\u001b[1m> Finished chain.\u001b[0m\n"
     ]
    },
    {
     "data": {
      "text/plain": [
       "' The first thing you said to me in English was \"Hi there!\"'"
      ]
     },
     "execution_count": 36,
     "metadata": {},
     "output_type": "execute_result"
    }
   ],
   "source": [
    "conversation.predict(input=\"当然可以，我跟你说的第一句话用英文怎么说？\")"
   ]
  },
  {
   "cell_type": "code",
   "execution_count": 37,
   "metadata": {},
   "outputs": [
    {
     "name": "stdout",
     "output_type": "stream",
     "text": [
      "\n",
      "\n",
      "\u001b[1m> Entering new  chain...\u001b[0m\n",
      "Prompt after formatting:\n",
      "\u001b[32;1m\u001b[1;3mThe following is a friendly conversation between a human and an AI. The AI is talkative and provides lots of specific details from its context. If the AI does not know the answer to a question, it truthfully says it does not know.\n",
      "\n",
      "Current conversation:\n",
      "Human: Hi there!\n",
      "AI:  Hi there! It's nice to meet you. How can I help you today?\n",
      "Human: I'm doing well! Just having a conversation with AI.\n",
      "AI:  That's great! It's always nice to have a conversation with someone. What would you like to talk about?\n",
      "Human: What was the first thing I said to you？\n",
      "AI:  You said \"Hi there!\"\n",
      "Human: What was the first thing I said to you？\n",
      "AI:  You said \"Hi there!\" Is there anything else I can help you with?\n",
      "Human: What is an alternative phrase for the first thing I said?\n",
      "AI:  An alternative phrase for the first thing you said is \"Greetings!\"\n",
      "Human: 我们可以说中文吗？\n",
      "AI:  当然可以！我可以说一些简单的中文，但我的中文水平还不够高。你可以帮我学习更多的中文吗？\n",
      "Human: 当然可以，我跟你说的第一句话用英文怎么说？\n",
      "AI:  The first thing you said to me in English was \"Hi there!\"\n",
      "Human: 你是什么时候训练的？\n",
      "AI:\u001b[0m\n",
      "\n",
      "\u001b[1m> Finished chain.\u001b[0m\n"
     ]
    },
    {
     "data": {
      "text/plain": [
       "' 我是在2020年7月份开始训练的，我一直在不断学习和改进，以提供更好的服务。'"
      ]
     },
     "execution_count": 37,
     "metadata": {},
     "output_type": "execute_result"
    }
   ],
   "source": [
    "conversation.predict(input=\"你是什么时候训练的？\")"
   ]
  },
  {
   "cell_type": "code",
   "execution_count": 38,
   "metadata": {},
   "outputs": [
    {
     "name": "stdout",
     "output_type": "stream",
     "text": [
      "\n",
      "\n",
      "\u001b[1m> Entering new  chain...\u001b[0m\n",
      "Prompt after formatting:\n",
      "\u001b[32;1m\u001b[1;3mThe following is a friendly conversation between a human and an AI. The AI is talkative and provides lots of specific details from its context. If the AI does not know the answer to a question, it truthfully says it does not know.\n",
      "\n",
      "Current conversation:\n",
      "Human: Hi there!\n",
      "AI:  Hi there! It's nice to meet you. How can I help you today?\n",
      "Human: I'm doing well! Just having a conversation with AI.\n",
      "AI:  That's great! It's always nice to have a conversation with someone. What would you like to talk about?\n",
      "Human: What was the first thing I said to you？\n",
      "AI:  You said \"Hi there!\"\n",
      "Human: What was the first thing I said to you？\n",
      "AI:  You said \"Hi there!\" Is there anything else I can help you with?\n",
      "Human: What is an alternative phrase for the first thing I said?\n",
      "AI:  An alternative phrase for the first thing you said is \"Greetings!\"\n",
      "Human: 我们可以说中文吗？\n",
      "AI:  当然可以！我可以说一些简单的中文，但我的中文水平还不够高。你可以帮我学习更多的中文吗？\n",
      "Human: 当然可以，我跟你说的第一句话用英文怎么说？\n",
      "AI:  The first thing you said to me in English was \"Hi there!\"\n",
      "Human: 你是什么时候训练的？\n",
      "AI:  我是在2020年7月份开始训练的，我一直在不断学习和改进，以提供更好的服务。\n",
      "Human: Davincci 003 和 Gpt3 turbo 3.5 有什么区别？\n",
      "AI:\u001b[0m\n",
      "\n",
      "\u001b[1m> Finished chain.\u001b[0m\n"
     ]
    },
    {
     "data": {
      "text/plain": [
       "' Davincci 003 和 Gpt3 turbo 3.5 之间的主要区别在于 GPT-3 拥有更大的参数空间，可以更好地处理复杂的任务，而 Davincci 003 则更适合处理简单的任务。'"
      ]
     },
     "execution_count": 38,
     "metadata": {},
     "output_type": "execute_result"
    }
   ],
   "source": [
    "conversation.predict(input=\"Davincci 003 和 Gpt3 turbo 3.5 有什么区别？\")"
   ]
  }
 ],
 "metadata": {
  "kernelspec": {
   "display_name": "venv",
   "language": "python",
   "name": "python3"
  },
  "language_info": {
   "codemirror_mode": {
    "name": "ipython",
    "version": 3
   },
   "file_extension": ".py",
   "mimetype": "text/x-python",
   "name": "python",
   "nbconvert_exporter": "python",
   "pygments_lexer": "ipython3",
   "version": "3.9.17"
  },
  "orig_nbformat": 4
 },
 "nbformat": 4,
 "nbformat_minor": 2
}
