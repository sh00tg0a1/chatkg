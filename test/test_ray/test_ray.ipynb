{
 "cells": [
  {
   "cell_type": "code",
   "execution_count": 1,
   "metadata": {},
   "outputs": [
    {
     "name": "stderr",
     "output_type": "stream",
     "text": [
      "2023-07-07 16:05:29,590\tINFO worker.py:1627 -- Started a local Ray instance. View the dashboard at \u001b[1m\u001b[32m127.0.0.1:8266 \u001b[39m\u001b[22m\n",
      "2023-07-07 16:05:37,530\tWARNING read_api.py:404 -- ⚠️  The number of blocks in this dataset (1) limits its parallelism to 1 concurrent tasks. This is much less than the number of available CPU slots in the cluster. Use `.repartition(n)` to increase the number of dataset blocks.\n",
      "2023-07-07 16:05:37,553\tWARNING dataset.py:253 -- \u001b[33mImportant: Ray Data requires schemas for all datasets in Ray 2.5. This means that standalone Python objects are no longer supported. In addition, the default batch format is fixed to NumPy. To revert to legacy behavior temporarily, set the environment variable RAY_DATA_STRICT_MODE=0 on all cluster processes.\n",
      "\n",
      "Learn more here: https://docs.ray.io/en/master/data/faq.html#migrating-to-strict-mode\u001b[0m\n"
     ]
    },
    {
     "data": {
      "application/vnd.jupyter.widget-view+json": {
       "model_id": "f926d3a0e39c461db905fd3473fbd2dd",
       "version_major": 2,
       "version_minor": 0
      },
      "text/plain": [
       "Read progress 0:   0%|          | 0/1 [00:00<?, ?it/s]"
      ]
     },
     "metadata": {},
     "output_type": "display_data"
    },
    {
     "data": {
      "application/vnd.jupyter.widget-view+json": {
       "model_id": "1e39f75dde79421a979edd67e8686a7b",
       "version_major": 2,
       "version_minor": 0
      },
      "text/plain": [
       "Read progress 0:   0%|          | 0/1 [00:00<?, ?it/s]"
      ]
     },
     "metadata": {},
     "output_type": "display_data"
    }
   ],
   "source": [
    "import ray\n",
    "\n",
    "# Load data.\n",
    "dataset = ray.data.read_csv(\"s3://anonymous@air-example-data/breast_cancer.csv\")\n",
    "\n",
    "# Split data into train and validation.\n",
    "train_dataset, valid_dataset = dataset.train_test_split(test_size=0.3)\n",
    "\n",
    "# Create a test dataset by dropping the target column.\n",
    "test_dataset = valid_dataset.drop_columns(cols=[\"target\"])"
   ]
  },
  {
   "cell_type": "code",
   "execution_count": 2,
   "metadata": {},
   "outputs": [
    {
     "data": {
      "application/vnd.jupyter.widget-view+json": {
       "model_id": "4d9f6b41bb5140609cc27a6ed48a967e",
       "version_major": 2,
       "version_minor": 0
      },
      "text/plain": [
       "Dataset(\n",
       "   num_blocks=1,\n",
       "   num_rows=569,\n",
       "   schema={\n",
       "      mean radius: double,\n",
       "      mean texture: double,\n",
       "      mean perimeter: double,\n",
       "      mean area: double,\n",
       "      mean smoothness: double,\n",
       "      mean compactness: double,\n",
       "      mean concavity: double,\n",
       "      mean concave points: double,\n",
       "      mean symmetry: double,\n",
       "      mean fractal dimension: double,\n",
       "      radius error: double,\n",
       "      texture error: double,\n",
       "      perimeter error: double,\n",
       "      area error: double,\n",
       "      smoothness error: double,\n",
       "      compactness error: double,\n",
       "      concavity error: double,\n",
       "      concave points error: double,\n",
       "      symmetry error: double,\n",
       "      fractal dimension error: double,\n",
       "      worst radius: double,\n",
       "      worst texture: double,\n",
       "      worst perimeter: double,\n",
       "      worst area: double,\n",
       "      worst smoothness: double,\n",
       "      worst compactness: double,\n",
       "      worst concavity: double,\n",
       "      worst concave points: double,\n",
       "      worst symmetry: double,\n",
       "      worst fractal dimension: double,\n",
       "      target: int64\n",
       "   }\n",
       ")"
      ]
     },
     "execution_count": 2,
     "metadata": {},
     "output_type": "execute_result"
    }
   ],
   "source": [
    "dataset"
   ]
  },
  {
   "cell_type": "code",
   "execution_count": 3,
   "metadata": {},
   "outputs": [],
   "source": [
    "# Create a preprocessor to scale some columns.\n",
    "from ray.data.preprocessors import StandardScaler\n",
    "\n",
    "preprocessor = StandardScaler(columns=[\"mean radius\", \"mean texture\"])"
   ]
  },
  {
   "cell_type": "code",
   "execution_count": 5,
   "metadata": {},
   "outputs": [
    {
     "name": "stdout",
     "output_type": "stream",
     "text": [
      "Collecting xgboost-ray\n",
      "  Downloading xgboost_ray-0.1.16-py3-none-any.whl (139 kB)\n",
      "\u001b[K     |████████████████████████████████| 139 kB 2.9 MB/s eta 0:00:01\n",
      "\u001b[?25hRequirement already satisfied: wrapt>=1.12.1 in /Users/cx/Work/python/chatkg/venv/lib/python3.9/site-packages (from xgboost-ray) (1.15.0)\n",
      "Requirement already satisfied: packaging in /Users/cx/Work/python/chatkg/venv/lib/python3.9/site-packages (from xgboost-ray) (23.1)\n",
      "Requirement already satisfied: numpy>=1.16 in /Users/cx/Work/python/chatkg/venv/lib/python3.9/site-packages (from xgboost-ray) (1.24.3)\n",
      "Requirement already satisfied: ray>=1.10 in /Users/cx/Work/python/chatkg/venv/lib/python3.9/site-packages (from xgboost-ray) (2.5.1)\n",
      "Requirement already satisfied: pandas in /Users/cx/Work/python/chatkg/venv/lib/python3.9/site-packages (from xgboost-ray) (2.0.2)\n",
      "Collecting xgboost>=0.90\n",
      "  Downloading xgboost-1.7.6-py3-none-macosx_10_15_x86_64.macosx_11_0_x86_64.macosx_12_0_x86_64.whl (1.8 MB)\n",
      "\u001b[K     |████████████████████████████████| 1.8 MB 6.8 MB/s eta 0:00:01\n",
      "\u001b[?25hRequirement already satisfied: click>=7.0 in /Users/cx/Work/python/chatkg/venv/lib/python3.9/site-packages (from ray>=1.10->xgboost-ray) (8.1.3)\n",
      "Requirement already satisfied: frozenlist in /Users/cx/Work/python/chatkg/venv/lib/python3.9/site-packages (from ray>=1.10->xgboost-ray) (1.3.3)\n",
      "Requirement already satisfied: grpcio<=1.49.1,>=1.32.0 in /Users/cx/Work/python/chatkg/venv/lib/python3.9/site-packages (from ray>=1.10->xgboost-ray) (1.49.1)\n",
      "Requirement already satisfied: filelock in /Users/cx/Work/python/chatkg/venv/lib/python3.9/site-packages (from ray>=1.10->xgboost-ray) (3.12.2)\n",
      "Requirement already satisfied: requests in /Users/cx/Work/python/chatkg/venv/lib/python3.9/site-packages (from ray>=1.10->xgboost-ray) (2.30.0)\n",
      "Requirement already satisfied: msgpack<2.0.0,>=1.0.0 in /Users/cx/Work/python/chatkg/venv/lib/python3.9/site-packages (from ray>=1.10->xgboost-ray) (1.0.5)\n",
      "Requirement already satisfied: protobuf!=3.19.5,>=3.15.3 in /Users/cx/Work/python/chatkg/venv/lib/python3.9/site-packages (from ray>=1.10->xgboost-ray) (4.23.4)\n",
      "Requirement already satisfied: aiosignal in /Users/cx/Work/python/chatkg/venv/lib/python3.9/site-packages (from ray>=1.10->xgboost-ray) (1.3.1)\n",
      "Requirement already satisfied: attrs in /Users/cx/Work/python/chatkg/venv/lib/python3.9/site-packages (from ray>=1.10->xgboost-ray) (23.1.0)\n",
      "Requirement already satisfied: jsonschema in /Users/cx/Work/python/chatkg/venv/lib/python3.9/site-packages (from ray>=1.10->xgboost-ray) (4.17.3)\n",
      "Requirement already satisfied: pyyaml in /Users/cx/Work/python/chatkg/venv/lib/python3.9/site-packages (from ray>=1.10->xgboost-ray) (6.0)\n",
      "Requirement already satisfied: six>=1.5.2 in /Users/cx/Work/python/chatkg/venv/lib/python3.9/site-packages (from grpcio<=1.49.1,>=1.32.0->ray>=1.10->xgboost-ray) (1.16.0)\n",
      "Requirement already satisfied: scipy in /Users/cx/Work/python/chatkg/venv/lib/python3.9/site-packages (from xgboost>=0.90->xgboost-ray) (1.10.1)\n",
      "Requirement already satisfied: pyrsistent!=0.17.0,!=0.17.1,!=0.17.2,>=0.14.0 in /Users/cx/Work/python/chatkg/venv/lib/python3.9/site-packages (from jsonschema->ray>=1.10->xgboost-ray) (0.19.3)\n",
      "Requirement already satisfied: python-dateutil>=2.8.2 in /Users/cx/Work/python/chatkg/venv/lib/python3.9/site-packages (from pandas->xgboost-ray) (2.8.2)\n",
      "Requirement already satisfied: pytz>=2020.1 in /Users/cx/Work/python/chatkg/venv/lib/python3.9/site-packages (from pandas->xgboost-ray) (2023.3)\n",
      "Requirement already satisfied: tzdata>=2022.1 in /Users/cx/Work/python/chatkg/venv/lib/python3.9/site-packages (from pandas->xgboost-ray) (2023.3)\n",
      "Requirement already satisfied: certifi>=2017.4.17 in /Users/cx/Work/python/chatkg/venv/lib/python3.9/site-packages (from requests->ray>=1.10->xgboost-ray) (2023.5.7)\n",
      "Requirement already satisfied: urllib3<3,>=1.21.1 in /Users/cx/Work/python/chatkg/venv/lib/python3.9/site-packages (from requests->ray>=1.10->xgboost-ray) (1.26.16)\n",
      "Requirement already satisfied: charset-normalizer<4,>=2 in /Users/cx/Work/python/chatkg/venv/lib/python3.9/site-packages (from requests->ray>=1.10->xgboost-ray) (3.1.0)\n",
      "Requirement already satisfied: idna<4,>=2.5 in /Users/cx/Work/python/chatkg/venv/lib/python3.9/site-packages (from requests->ray>=1.10->xgboost-ray) (3.4)\n",
      "Installing collected packages: xgboost, xgboost-ray\n",
      "Successfully installed xgboost-1.7.6 xgboost-ray-0.1.16\n",
      "\u001b[33mWARNING: You are using pip version 21.1.3; however, version 23.1.2 is available.\n",
      "You should consider upgrading via the '/Users/cx/Work/python/chatkg/venv/bin/python -m pip install --upgrade pip' command.\u001b[0m\n",
      "Note: you may need to restart the kernel to use updated packages.\n"
     ]
    }
   ],
   "source": [
    "%pip install xgboost-ray"
   ]
  },
  {
   "cell_type": "code",
   "execution_count": 7,
   "metadata": {},
   "outputs": [
    {
     "data": {
      "text/html": [],
      "text/plain": [
       "<IPython.core.display.HTML object>"
      ]
     },
     "metadata": {},
     "output_type": "display_data"
    },
    {
     "data": {
      "application/vnd.jupyter.widget-view+json": {
       "model_id": "3a6a0dc6c2a74014ad1ef8c259030978",
       "version_major": 2,
       "version_minor": 0
      },
      "text/plain": [
       "(pid=42583) - Aggregate 1:   0%|          | 0/1 [00:00<?, ?it/s]"
      ]
     },
     "metadata": {},
     "output_type": "display_data"
    },
    {
     "data": {
      "application/vnd.jupyter.widget-view+json": {
       "model_id": "7572ae0d80224c86ba5bb0f03cd35b67",
       "version_major": 2,
       "version_minor": 0
      },
      "text/plain": [
       "(pid=42583) SortSample 2:   0%|          | 0/1 [00:00<?, ?it/s]"
      ]
     },
     "metadata": {},
     "output_type": "display_data"
    },
    {
     "data": {
      "application/vnd.jupyter.widget-view+json": {
       "model_id": "a75ff884f3c34d0d8c1355083b465368",
       "version_major": 2,
       "version_minor": 0
      },
      "text/plain": [
       "(pid=42583) ShuffleMap 3:   0%|          | 0/1 [00:00<?, ?it/s]"
      ]
     },
     "metadata": {},
     "output_type": "display_data"
    },
    {
     "data": {
      "application/vnd.jupyter.widget-view+json": {
       "model_id": "651dddceb6c04aec9792ae6add45a568",
       "version_major": 2,
       "version_minor": 0
      },
      "text/plain": [
       "(pid=42583) ShuffleReduce 4:   0%|          | 0/1 [00:00<?, ?it/s]"
      ]
     },
     "metadata": {},
     "output_type": "display_data"
    },
    {
     "data": {
      "application/vnd.jupyter.widget-view+json": {
       "model_id": "0ae89398df8f4181b835a774f603e517",
       "version_major": 2,
       "version_minor": 0
      },
      "text/plain": [
       "(pid=42583) Running 0:   0%|          | 0/1 [00:00<?, ?it/s]"
      ]
     },
     "metadata": {},
     "output_type": "display_data"
    },
    {
     "name": "stderr",
     "output_type": "stream",
     "text": [
      "\u001b[2m\u001b[36m(XGBoostTrainer pid=42583)\u001b[0m 2023-07-07 16:09:11,322\tINFO streaming_executor.py:94 -- Tip: For detailed progress reporting, run `ray.data.DataContext.get_current().execution_options.verbose_progress = True`\n",
      "\u001b[2m\u001b[36m(XGBoostTrainer pid=42583)\u001b[0m 2023-07-07 16:09:11,322\tINFO streaming_executor.py:94 -- Tip: For detailed progress reporting, run `ray.data.DataContext.get_current().execution_options.verbose_progress = True`\n",
      "\u001b[2m\u001b[36m(XGBoostTrainer pid=42583)\u001b[0m 2023-07-07 16:09:11,322\tINFO streaming_executor.py:94 -- Tip: For detailed progress reporting, run `ray.data.DataContext.get_current().execution_options.verbose_progress = True`\n",
      "\u001b[2m\u001b[36m(XGBoostTrainer pid=42583)\u001b[0m 2023-07-07 16:09:11,322\tINFO streaming_executor.py:94 -- Tip: For detailed progress reporting, run `ray.data.DataContext.get_current().execution_options.verbose_progress = True`\n",
      "\u001b[2m\u001b[36m(XGBoostTrainer pid=42583)\u001b[0m 2023-07-07 16:09:11,322\tINFO streaming_executor.py:94 -- Tip: For detailed progress reporting, run `ray.data.DataContext.get_current().execution_options.verbose_progress = True`\n",
      "\u001b[2m\u001b[36m(XGBoostTrainer pid=42583)\u001b[0m 2023-07-07 16:09:11,322\tINFO streaming_executor.py:94 -- Tip: For detailed progress reporting, run `ray.data.DataContext.get_current().execution_options.verbose_progress = True`\n",
      "\u001b[2m\u001b[36m(XGBoostTrainer pid=42583)\u001b[0m 2023-07-07 16:09:11,322\tINFO streaming_executor.py:94 -- Tip: For detailed progress reporting, run `ray.data.DataContext.get_current().execution_options.verbose_progress = True`\n",
      "\u001b[2m\u001b[36m(XGBoostTrainer pid=42583)\u001b[0m 2023-07-07 16:09:11,366\tINFO streaming_executor.py:149 -- Shutting down <StreamingExecutor(Thread-4, stopped daemon 123145527644160)>.\n",
      "2023-07-07 16:09:11,530\tERROR tune_controller.py:873 -- Trial task failed for trial XGBoostTrainer_d6ec1_00000\n",
      "Traceback (most recent call last):\n",
      "  File \"/Users/cx/Work/python/chatkg/venv/lib/python3.9/site-packages/ray/air/execution/_internal/event_manager.py\", line 110, in resolve_future\n",
      "    result = ray.get(future)\n",
      "  File \"/Users/cx/Work/python/chatkg/venv/lib/python3.9/site-packages/ray/_private/auto_init_hook.py\", line 18, in auto_init_wrapper\n",
      "    return fn(*args, **kwargs)\n",
      "  File \"/Users/cx/Work/python/chatkg/venv/lib/python3.9/site-packages/ray/_private/client_mode_hook.py\", line 103, in wrapper\n",
      "    return func(*args, **kwargs)\n",
      "  File \"/Users/cx/Work/python/chatkg/venv/lib/python3.9/site-packages/ray/_private/worker.py\", line 2540, in get\n",
      "    raise value.as_instanceof_cause()\n",
      "ray.exceptions.RayTaskError(RuntimeError): \u001b[36mray::_Inner.train()\u001b[39m (pid=42583, ip=127.0.0.1, actor_id=192ee594285cc2cb3b8f187701000000, repr=XGBoostTrainer)\n",
      "  File \"/Users/cx/Work/python/chatkg/venv/lib/python3.9/site-packages/ray/tune/trainable/trainable.py\", line 389, in train\n",
      "    raise skipped from exception_cause(skipped)\n",
      "  File \"/Users/cx/Work/python/chatkg/venv/lib/python3.9/site-packages/ray/tune/trainable/function_trainable.py\", line 336, in entrypoint\n",
      "    return self._trainable_func(\n",
      "  File \"/Users/cx/Work/python/chatkg/venv/lib/python3.9/site-packages/ray/train/base_trainer.py\", line 795, in _trainable_func\n",
      "    super()._trainable_func(self._merged_config, reporter, checkpoint_dir)\n",
      "  File \"/Users/cx/Work/python/chatkg/venv/lib/python3.9/site-packages/ray/tune/trainable/function_trainable.py\", line 653, in _trainable_func\n",
      "    output = fn()\n",
      "  File \"/Users/cx/Work/python/chatkg/venv/lib/python3.9/site-packages/ray/train/base_trainer.py\", line 705, in train_func\n",
      "    trainer.training_loop()\n",
      "  File \"/Users/cx/Work/python/chatkg/venv/lib/python3.9/site-packages/ray/train/gbdt_trainer.py\", line 326, in training_loop\n",
      "    model = self._train(\n",
      "  File \"/Users/cx/Work/python/chatkg/venv/lib/python3.9/site-packages/ray/train/xgboost/xgboost_trainer.py\", line 94, in _train\n",
      "    return xgboost_ray.train(**kwargs)\n",
      "  File \"/Users/cx/Work/python/chatkg/venv/lib/python3.9/site-packages/xgboost_ray/main.py\", line 1598, in train\n",
      "    bst, train_evals_result, train_additional_results = _train(\n",
      "  File \"/Users/cx/Work/python/chatkg/venv/lib/python3.9/site-packages/xgboost_ray/main.py\", line 1134, in _train\n",
      "    dtrain.assert_enough_shards_for_actors(num_actors=ray_params.num_actors)\n",
      "  File \"/Users/cx/Work/python/chatkg/venv/lib/python3.9/site-packages/xgboost_ray/matrix.py\", line 884, in assert_enough_shards_for_actors\n",
      "    self.loader.assert_enough_shards_for_actors(num_actors=num_actors)\n",
      "  File \"/Users/cx/Work/python/chatkg/venv/lib/python3.9/site-packages/xgboost_ray/matrix.py\", line 569, in assert_enough_shards_for_actors\n",
      "    raise RuntimeError(\n",
      "RuntimeError: Trying to shard data for 2 actors, but the maximum number of shards is 1. If you want to shard the dataset by rows, consider centralized loading by passing `distributed=False` to the `RayDMatrix`. Otherwise consider using fewer actors or re-partitioning your data.\n"
     ]
    },
    {
     "data": {
      "text/html": [
       "<div class=\"trialProgress\">\n",
       "  <h3>Trial Progress</h3>\n",
       "  <table>\n",
       "<thead>\n",
       "<tr><th>Trial name                </th><th>date               </th><th>hostname     </th><th>node_ip  </th><th style=\"text-align: right;\">  pid</th><th style=\"text-align: right;\">  timestamp</th><th>trial_id   </th></tr>\n",
       "</thead>\n",
       "<tbody>\n",
       "<tr><td>XGBoostTrainer_d6ec1_00000</td><td>2023-07-07_16-09-11</td><td>chenxiaodeMBP</td><td>127.0.0.1</td><td style=\"text-align: right;\">42583</td><td style=\"text-align: right;\"> 1688738951</td><td>d6ec1_00000</td></tr>\n",
       "</tbody>\n",
       "</table>\n",
       "</div>\n",
       "<style>\n",
       ".trialProgress {\n",
       "  display: flex;\n",
       "  flex-direction: column;\n",
       "  color: var(--jp-ui-font-color1);\n",
       "}\n",
       ".trialProgress h3 {\n",
       "  font-weight: bold;\n",
       "}\n",
       ".trialProgress td {\n",
       "  white-space: nowrap;\n",
       "}\n",
       "</style>\n"
      ],
      "text/plain": [
       "<IPython.core.display.HTML object>"
      ]
     },
     "metadata": {},
     "output_type": "display_data"
    },
    {
     "name": "stderr",
     "output_type": "stream",
     "text": [
      "2023-07-07 16:09:11,552\tERROR tune.py:1107 -- Trials did not complete: [XGBoostTrainer_d6ec1_00000]\n",
      "2023-07-07 16:09:11,555\tINFO tune.py:1111 -- Total run time: 3.09 seconds (3.07 seconds for the tuning loop).\n",
      "2023-07-07 16:09:11,560\tWARNING experiment_analysis.py:910 -- Failed to read the results for 1 trials:\n",
      "- /Users/cx/ray_results/XGBoostTrainer_2023-07-07_16-09-08/XGBoostTrainer_d6ec1_00000_0_2023-07-07_16-09-08\n"
     ]
    },
    {
     "ename": "TrainingFailedError",
     "evalue": "The Ray Train run failed. Please inspect the previous error messages for a cause. After fixing the issue (assuming that the error is not caused by your own application logic, but rather an error such as OOM), you can restart the run from scratch or continue this run.\nTo continue this run, you can use: `trainer = XGBoostTrainer.restore(\"/Users/cx/ray_results/XGBoostTrainer_2023-07-07_16-09-08\")`.\nTo start a new run that will retry on training failures, set `air.RunConfig(failure_config=air.FailureConfig(max_failures))` in the Trainer's `run_config` with `max_failures > 0`, or `max_failures = -1` for unlimited retries.",
     "output_type": "error",
     "traceback": [
      "\u001b[0;31m---------------------------------------------------------------------------\u001b[0m",
      "\u001b[0;31mRayTaskError(RuntimeError)\u001b[0m                Traceback (most recent call last)",
      "\u001b[0;31mRayTaskError(RuntimeError)\u001b[0m: \u001b[36mray::_Inner.train()\u001b[39m (pid=42583, ip=127.0.0.1, actor_id=192ee594285cc2cb3b8f187701000000, repr=XGBoostTrainer)\n  File \"/Users/cx/Work/python/chatkg/venv/lib/python3.9/site-packages/ray/tune/trainable/trainable.py\", line 389, in train\n    raise skipped from exception_cause(skipped)\n  File \"/Users/cx/Work/python/chatkg/venv/lib/python3.9/site-packages/ray/tune/trainable/function_trainable.py\", line 336, in entrypoint\n    return self._trainable_func(\n  File \"/Users/cx/Work/python/chatkg/venv/lib/python3.9/site-packages/ray/train/base_trainer.py\", line 795, in _trainable_func\n    super()._trainable_func(self._merged_config, reporter, checkpoint_dir)\n  File \"/Users/cx/Work/python/chatkg/venv/lib/python3.9/site-packages/ray/tune/trainable/function_trainable.py\", line 653, in _trainable_func\n    output = fn()\n  File \"/Users/cx/Work/python/chatkg/venv/lib/python3.9/site-packages/ray/train/base_trainer.py\", line 705, in train_func\n    trainer.training_loop()\n  File \"/Users/cx/Work/python/chatkg/venv/lib/python3.9/site-packages/ray/train/gbdt_trainer.py\", line 326, in training_loop\n    model = self._train(\n  File \"/Users/cx/Work/python/chatkg/venv/lib/python3.9/site-packages/ray/train/xgboost/xgboost_trainer.py\", line 94, in _train\n    return xgboost_ray.train(**kwargs)\n  File \"/Users/cx/Work/python/chatkg/venv/lib/python3.9/site-packages/xgboost_ray/main.py\", line 1598, in train\n    bst, train_evals_result, train_additional_results = _train(\n  File \"/Users/cx/Work/python/chatkg/venv/lib/python3.9/site-packages/xgboost_ray/main.py\", line 1134, in _train\n    dtrain.assert_enough_shards_for_actors(num_actors=ray_params.num_actors)\n  File \"/Users/cx/Work/python/chatkg/venv/lib/python3.9/site-packages/xgboost_ray/matrix.py\", line 884, in assert_enough_shards_for_actors\n    self.loader.assert_enough_shards_for_actors(num_actors=num_actors)\n  File \"/Users/cx/Work/python/chatkg/venv/lib/python3.9/site-packages/xgboost_ray/matrix.py\", line 569, in assert_enough_shards_for_actors\n    raise RuntimeError(\nRuntimeError: Trying to shard data for 2 actors, but the maximum number of shards is 1. If you want to shard the dataset by rows, consider centralized loading by passing `distributed=False` to the `RayDMatrix`. Otherwise consider using fewer actors or re-partitioning your data.",
      "\nThe above exception was the direct cause of the following exception:\n",
      "\u001b[0;31mTrainingFailedError\u001b[0m                       Traceback (most recent call last)",
      "Cell \u001b[0;32mIn[7], line 24\u001b[0m\n\u001b[1;32m      2\u001b[0m \u001b[39mfrom\u001b[39;00m \u001b[39mray\u001b[39;00m\u001b[39m.\u001b[39;00m\u001b[39mtrain\u001b[39;00m\u001b[39m.\u001b[39;00m\u001b[39mxgboost\u001b[39;00m \u001b[39mimport\u001b[39;00m XGBoostTrainer\n\u001b[1;32m      4\u001b[0m trainer \u001b[39m=\u001b[39m XGBoostTrainer(\n\u001b[1;32m      5\u001b[0m     scaling_config\u001b[39m=\u001b[39mScalingConfig(\n\u001b[1;32m      6\u001b[0m         \u001b[39m# Number of workers to use for data parallelism.\u001b[39;00m\n\u001b[0;32m   (...)\u001b[0m\n\u001b[1;32m     22\u001b[0m     preprocessor\u001b[39m=\u001b[39mpreprocessor,\n\u001b[1;32m     23\u001b[0m )\n\u001b[0;32m---> 24\u001b[0m best_result \u001b[39m=\u001b[39m trainer\u001b[39m.\u001b[39;49mfit()\n\u001b[1;32m     25\u001b[0m \u001b[39mprint\u001b[39m(best_result\u001b[39m.\u001b[39mmetrics)\n",
      "File \u001b[0;32m~/Work/python/chatkg/venv/lib/python3.9/site-packages/ray/train/base_trainer.py:616\u001b[0m, in \u001b[0;36mBaseTrainer.fit\u001b[0;34m(self)\u001b[0m\n\u001b[1;32m    612\u001b[0m result \u001b[39m=\u001b[39m result_grid[\u001b[39m0\u001b[39m]\n\u001b[1;32m    613\u001b[0m \u001b[39mif\u001b[39;00m result\u001b[39m.\u001b[39merror:\n\u001b[1;32m    614\u001b[0m     \u001b[39m# Raise trainable errors to the user with a message to restore\u001b[39;00m\n\u001b[1;32m    615\u001b[0m     \u001b[39m# or configure `FailureConfig` in a new run.\u001b[39;00m\n\u001b[0;32m--> 616\u001b[0m     \u001b[39mraise\u001b[39;00m TrainingFailedError(\n\u001b[1;32m    617\u001b[0m         \u001b[39m\"\u001b[39m\u001b[39m\\n\u001b[39;00m\u001b[39m\"\u001b[39m\u001b[39m.\u001b[39mjoin([restore_msg, TrainingFailedError\u001b[39m.\u001b[39m_FAILURE_CONFIG_MSG])\n\u001b[1;32m    618\u001b[0m     ) \u001b[39mfrom\u001b[39;00m \u001b[39mresult\u001b[39;00m\u001b[39m.\u001b[39;00m\u001b[39merror\u001b[39;00m\n\u001b[1;32m    619\u001b[0m \u001b[39mreturn\u001b[39;00m result\n",
      "\u001b[0;31mTrainingFailedError\u001b[0m: The Ray Train run failed. Please inspect the previous error messages for a cause. After fixing the issue (assuming that the error is not caused by your own application logic, but rather an error such as OOM), you can restart the run from scratch or continue this run.\nTo continue this run, you can use: `trainer = XGBoostTrainer.restore(\"/Users/cx/ray_results/XGBoostTrainer_2023-07-07_16-09-08\")`.\nTo start a new run that will retry on training failures, set `air.RunConfig(failure_config=air.FailureConfig(max_failures))` in the Trainer's `run_config` with `max_failures > 0`, or `max_failures = -1` for unlimited retries."
     ]
    }
   ],
   "source": [
    "from ray.air.config import ScalingConfig\n",
    "from ray.train.xgboost import XGBoostTrainer\n",
    "\n",
    "trainer = XGBoostTrainer(\n",
    "    scaling_config=ScalingConfig(\n",
    "        # Number of workers to use for data parallelism.\n",
    "        num_workers=2,\n",
    "        # Whether to use GPU acceleration.\n",
    "        use_gpu=False,\n",
    "        # Make sure to leave some CPUs free for Ray Data operations.\n",
    "        _max_cpu_fraction_per_node=0.9,\n",
    "    ),\n",
    "    label_column=\"target\",\n",
    "    num_boost_round=20,\n",
    "    params={\n",
    "        # XGBoost specific params\n",
    "        \"objective\": \"binary:logistic\",\n",
    "        # \"tree_method\": \"gpu_hist\",  # uncomment this to use GPUs.\n",
    "        \"eval_metric\": [\"logloss\", \"error\"],\n",
    "    },\n",
    "    datasets={\"train\": train_dataset, \"valid\": valid_dataset},\n",
    "    preprocessor=preprocessor,\n",
    ")\n",
    "best_result = trainer.fit()\n",
    "print(best_result.metrics)"
   ]
  },
  {
   "cell_type": "code",
   "execution_count": 1,
   "metadata": {},
   "outputs": [
    {
     "name": "stderr",
     "output_type": "stream",
     "text": [
      "2023-07-07 16:13:11,018\tINFO worker.py:1627 -- Started a local Ray instance. View the dashboard at \u001b[1m\u001b[32m127.0.0.1:8266 \u001b[39m\u001b[22m\n"
     ]
    },
    {
     "data": {
      "text/html": [
       "<div>\n",
       "    <div style=\"margin-left: 50px;display: flex;flex-direction: row;align-items: center\">\n",
       "        <h3 style=\"color: var(--jp-ui-font-color0)\">Ray</h3>\n",
       "        <svg version=\"1.1\" id=\"ray\" width=\"3em\" viewBox=\"0 0 144.5 144.6\" style=\"margin-left: 3em;margin-right: 3em\">\n",
       "            <g id=\"layer-1\">\n",
       "                <path fill=\"#00a2e9\" class=\"st0\" d=\"M97.3,77.2c-3.8-1.1-6.2,0.9-8.3,5.1c-3.5,6.8-9.9,9.9-17.4,9.6S58,88.1,54.8,81.2c-1.4-3-3-4-6.3-4.1\n",
       "                    c-5.6-0.1-9.9,0.1-13.1,6.4c-3.8,7.6-13.6,10.2-21.8,7.6C5.2,88.4-0.4,80.5,0,71.7c0.1-8.4,5.7-15.8,13.8-18.2\n",
       "                    c8.4-2.6,17.5,0.7,22.3,8c1.3,1.9,1.3,5.2,3.6,5.6c3.9,0.6,8,0.2,12,0.2c1.8,0,1.9-1.6,2.4-2.8c3.5-7.8,9.7-11.8,18-11.9\n",
       "                    c8.2-0.1,14.4,3.9,17.8,11.4c1.3,2.8,2.9,3.6,5.7,3.3c1-0.1,2,0.1,3,0c2.8-0.5,6.4,1.7,8.1-2.7s-2.3-5.5-4.1-7.5\n",
       "                    c-5.1-5.7-10.9-10.8-16.1-16.3C84,38,81.9,37.1,78,38.3C66.7,42,56.2,35.7,53,24.1C50.3,14,57.3,2.8,67.7,0.5\n",
       "                    C78.4-2,89,4.7,91.5,15.3c0.1,0.3,0.1,0.5,0.2,0.8c0.7,3.4,0.7,6.9-0.8,9.8c-1.7,3.2-0.8,5,1.5,7.2c6.7,6.5,13.3,13,19.8,19.7\n",
       "                    c1.8,1.8,3,2.1,5.5,1.2c9.1-3.4,17.9-0.6,23.4,7c4.8,6.9,4.6,16.1-0.4,22.9c-5.4,7.2-14.2,9.9-23.1,6.5c-2.3-0.9-3.5-0.6-5.1,1.1\n",
       "                    c-6.7,6.9-13.6,13.7-20.5,20.4c-1.8,1.8-2.5,3.2-1.4,5.9c3.5,8.7,0.3,18.6-7.7,23.6c-7.9,5-18.2,3.8-24.8-2.9\n",
       "                    c-6.4-6.4-7.4-16.2-2.5-24.3c4.9-7.8,14.5-11,23.1-7.8c3,1.1,4.7,0.5,6.9-1.7C91.7,98.4,98,92.3,104.2,86c1.6-1.6,4.1-2.7,2.6-6.2\n",
       "                    c-1.4-3.3-3.8-2.5-6.2-2.6C99.8,77.2,98.9,77.2,97.3,77.2z M72.1,29.7c5.5,0.1,9.9-4.3,10-9.8c0-0.1,0-0.2,0-0.3\n",
       "                    C81.8,14,77,9.8,71.5,10.2c-5,0.3-9,4.2-9.3,9.2c-0.2,5.5,4,10.1,9.5,10.3C71.8,29.7,72,29.7,72.1,29.7z M72.3,62.3\n",
       "                    c-5.4-0.1-9.9,4.2-10.1,9.7c0,0.2,0,0.3,0,0.5c0.2,5.4,4.5,9.7,9.9,10c5.1,0.1,9.9-4.7,10.1-9.8c0.2-5.5-4-10-9.5-10.3\n",
       "                    C72.6,62.3,72.4,62.3,72.3,62.3z M115,72.5c0.1,5.4,4.5,9.7,9.8,9.9c5.6-0.2,10-4.8,10-10.4c-0.2-5.4-4.6-9.7-10-9.7\n",
       "                    c-5.3-0.1-9.8,4.2-9.9,9.5C115,72.1,115,72.3,115,72.5z M19.5,62.3c-5.4,0.1-9.8,4.4-10,9.8c-0.1,5.1,5.2,10.4,10.2,10.3\n",
       "                    c5.6-0.2,10-4.9,9.8-10.5c-0.1-5.4-4.5-9.7-9.9-9.6C19.6,62.3,19.5,62.3,19.5,62.3z M71.8,134.6c5.9,0.2,10.3-3.9,10.4-9.6\n",
       "                    c0.5-5.5-3.6-10.4-9.1-10.8c-5.5-0.5-10.4,3.6-10.8,9.1c0,0.5,0,0.9,0,1.4c-0.2,5.3,4,9.8,9.3,10\n",
       "                    C71.6,134.6,71.7,134.6,71.8,134.6z\"/>\n",
       "            </g>\n",
       "        </svg>\n",
       "        <table>\n",
       "            <tr>\n",
       "                <td style=\"text-align: left\"><b>Python version:</b></td>\n",
       "                <td style=\"text-align: left\"><b>3.9.17</b></td>\n",
       "            </tr>\n",
       "            <tr>\n",
       "                <td style=\"text-align: left\"><b>Ray version:</b></td>\n",
       "                <td style=\"text-align: left\"><b> 2.5.1</b></td>\n",
       "            </tr>\n",
       "            <tr>\n",
       "    <td style=\"text-align: left\"><b>Dashboard:</b></td>\n",
       "    <td style=\"text-align: left\"><b><a href=\"http://127.0.0.1:8266\" target=\"_blank\">http://127.0.0.1:8266</a></b></td>\n",
       "</tr>\n",
       "\n",
       "        </table>\n",
       "    </div>\n",
       "</div>\n"
      ],
      "text/plain": [
       "RayContext(dashboard_url='127.0.0.1:8266', python_version='3.9.17', ray_version='2.5.1', ray_commit='a03efd9931128d387649dd48b0e4864b43d3bfb4', address_info={'node_ip_address': '127.0.0.1', 'raylet_ip_address': '127.0.0.1', 'redis_address': None, 'object_store_address': '/tmp/ray/session_2023-07-07_16-13-07_208280_42698/sockets/plasma_store', 'raylet_socket_name': '/tmp/ray/session_2023-07-07_16-13-07_208280_42698/sockets/raylet', 'webui_url': '127.0.0.1:8266', 'session_dir': '/tmp/ray/session_2023-07-07_16-13-07_208280_42698', 'metrics_export_port': 58606, 'gcs_address': '127.0.0.1:51345', 'address': '127.0.0.1:51345', 'dashboard_agent_listen_port': 52365, 'node_id': '5d329d6d379f9df5540f347b49d8fbf64417fc2b255170ac44a7843f'})"
      ]
     },
     "execution_count": 1,
     "metadata": {},
     "output_type": "execute_result"
    }
   ],
   "source": [
    "import ray\n",
    "\n",
    "ray.init()"
   ]
  },
  {
   "cell_type": "code",
   "execution_count": 2,
   "metadata": {},
   "outputs": [
    {
     "name": "stdout",
     "output_type": "stream",
     "text": [
      "[0, 1, 4, 9]\n"
     ]
    }
   ],
   "source": [
    "# Define the square task.\n",
    "@ray.remote\n",
    "def square(x):\n",
    "    return x * x\n",
    "\n",
    "# Launch four parallel square tasks.\n",
    "futures = [square.remote(i) for i in range(4)]\n",
    "\n",
    "# Retrieve results.\n",
    "print(ray.get(futures))\n",
    "# -> [0, 1, 4, 9]"
   ]
  },
  {
   "cell_type": "code",
   "execution_count": 3,
   "metadata": {},
   "outputs": [
    {
     "name": "stdout",
     "output_type": "stream",
     "text": [
      "10\n"
     ]
    }
   ],
   "source": [
    "# Define the Counter actor.\n",
    "@ray.remote\n",
    "class Counter:\n",
    "    def __init__(self):\n",
    "        self.i = 0\n",
    "\n",
    "    def get(self):\n",
    "        return self.i\n",
    "\n",
    "    def incr(self, value):\n",
    "        self.i += value\n",
    "\n",
    "# Create a Counter actor.\n",
    "c = Counter.remote()\n",
    "\n",
    "# Submit calls to the actor. These calls run asynchronously but in\n",
    "# submission order on the remote actor process.\n",
    "for _ in range(10):\n",
    "    c.incr.remote(1)\n",
    "\n",
    "# Retrieve final actor state.\n",
    "print(ray.get(c.get.remote()))\n",
    "# -> 10"
   ]
  },
  {
   "cell_type": "code",
   "execution_count": 4,
   "metadata": {},
   "outputs": [
    {
     "name": "stdout",
     "output_type": "stream",
     "text": [
      "10000.0\n",
      "1000000.0\n"
     ]
    }
   ],
   "source": [
    "import numpy as np\n",
    "\n",
    "# Define a task that sums the values in a matrix.\n",
    "@ray.remote\n",
    "def sum_matrix(matrix):\n",
    "    return np.sum(matrix)\n",
    "\n",
    "# Call the task with a literal argument value.\n",
    "print(ray.get(sum_matrix.remote(np.ones((100, 100)))))\n",
    "# -> 10000.0\n",
    "\n",
    "# Put a large array into the object store.\n",
    "matrix_ref = ray.put(np.ones((1000, 1000)))\n",
    "\n",
    "# Call the task with the object reference as an argument.\n",
    "print(ray.get(sum_matrix.remote(matrix_ref)))\n",
    "# -> 1000000.0"
   ]
  }
 ],
 "metadata": {
  "kernelspec": {
   "display_name": "venv",
   "language": "python",
   "name": "python3"
  },
  "language_info": {
   "codemirror_mode": {
    "name": "ipython",
    "version": 3
   },
   "file_extension": ".py",
   "mimetype": "text/x-python",
   "name": "python",
   "nbconvert_exporter": "python",
   "pygments_lexer": "ipython3",
   "version": "3.9.17"
  },
  "orig_nbformat": 4
 },
 "nbformat": 4,
 "nbformat_minor": 2
}
