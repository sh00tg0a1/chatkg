{
 "cells": [
  {
   "cell_type": "code",
   "execution_count": 1,
   "metadata": {},
   "outputs": [
    {
     "name": "stderr",
     "output_type": "stream",
     "text": [
      "WARNING! engine is not default parameter.\n",
      "                    engine was transferred to model_kwargs.\n",
      "                    Please confirm that engine is what you intended.\n"
     ]
    }
   ],
   "source": [
    "from langchain import OpenAI\n",
    "\n",
    "import openai\n",
    "import os\n",
    "\n",
    "OPENAI_API_KEY = os.environ.get(\"OPENAI_API_KEY\")\n",
    "OPENAI_ENDPOINT  = os.environ.get(\"OPENAI_ENDPOINT\")\n",
    "OPENAI_API_VERSION  = os.environ.get(\"OPENAI_API_VERSION\")\n",
    "OPENAI_API_TYPE  = os.environ.get(\"OPENAI_API_TYPE\")\n",
    "\n",
    "openai.api_type = OPENAI_API_TYPE\n",
    "openai.api_base = OPENAI_ENDPOINT\n",
    "openai.api_version = OPENAI_API_VERSION\n",
    "openai.api_key = OPENAI_API_KEY\n",
    "\n",
    "llm = OpenAI(\n",
    "    # engine = \"asada001\",\n",
    "    # engine=\"aschatgpt35\",\n",
    "    engine=\"asdavinci003\",    \n",
    "    # model_kwargs= {\n",
    "    #     \"engine\": \"asdavinci003\",\n",
    "    # },\n",
    "    openai_api_key=OPENAI_API_KEY,\n",
    "    openai_api_base=OPENAI_ENDPOINT,\n",
    ")\n",
    "\n"
   ]
  },
  {
   "cell_type": "code",
   "execution_count": 2,
   "metadata": {},
   "outputs": [],
   "source": [
    "services = [\n",
    "    {\n",
    "        \"SID\": \"1\",\n",
    "        \"name\": \"企业查询\",\n",
    "        \"description\": \"查询企业的基本信息，如成立时间、注册资本、注册地址、经营范围等\",\n",
    "        \"params\": [\n",
    "            {\n",
    "                \"name\": \"vid\",\n",
    "                \"type\": \"vid\",\n",
    "                \"entity_type\": \"Enterprise\",\n",
    "                \"description\": \"知识图谱中的企业ID\",\n",
    "            }\n",
    "        ]\n",
    "    },\n",
    "    {\n",
    "        \"SID\": \"2\",\n",
    "        \"name\": \"企业间投资路径查询\",\n",
    "        \"description\": \"查询两个企业间的投资路径, 如A企业投资B企业, B企业投资C企业, 那么A企业和C企业间就存在投资路径\",\n",
    "        \"params\": [\n",
    "            {\n",
    "                \"name\": \"from_vid\",\n",
    "                \"type\": \"vid\",\n",
    "                \"entity_type\": \"Enterprise\",\n",
    "                \"description\": \"知识图谱中的企业ID\",\n",
    "            },\n",
    "            {\n",
    "                \"name\": \"to_vid\",\n",
    "                \"type\": \"vid\",\n",
    "                \"entity_type\": \"Enterprise\",\n",
    "                \"description\": \"知识图谱中的企业ID\",\n",
    "            },\n",
    "        ]\n",
    "    },\n",
    "    {\n",
    "        \"SID\": \"3\",\n",
    "        \"name\": \"企业实控人分析\",\n",
    "        \"description\": \"查询企业的实际控制人，以及实际控制人的股权结构\",\n",
    "        \"params\": [\n",
    "            {\n",
    "                \"name\": \"vid\",\n",
    "                \"type\": \"vid\",\n",
    "                \"entity_type\": \"Enterprise\",\n",
    "                \"description\": \"知识图谱中的企业ID\",\n",
    "            }\n",
    "        ]\n",
    "    }\n",
    "]"
   ]
  },
  {
   "cell_type": "code",
   "execution_count": 4,
   "metadata": {},
   "outputs": [
    {
     "data": {
      "text/plain": [
       "{'question': '\\n    %INSTRUCTIONS:\\n    Suppose you have some services which are described in documents. Please find the most relevant service to answer the question.\\n    If more than one service is relevant, please indicate them in [sources] list.\\n    \\n    Please also put the 你能帮我做什么?请给我 Json 的回答，不需要原始的问题。如果你需要更多信息可以告诉我 in the [query] field.\\n    \\n    请用中文回答\\n    \\n    %QUESTION:\\n    你能帮我做什么?请给我 Json 的回答，不需要原始的问题。如果你需要更多信息可以告诉我\\n',\n",
       " 'answer': ' 我们可以提供以下服务：企业查询、企业间投资路径查询、企业实控人分析。\\n',\n",
       " 'sources': '1,2,3'}"
      ]
     },
     "execution_count": 4,
     "metadata": {},
     "output_type": "execute_result"
    }
   ],
   "source": [
    "from custom_tools.desc_tool import DescTool\n",
    "\n",
    "tool = DescTool.from_llm(llm=llm, services_desc=services)\n",
    "tool.run(\"你能帮我做什么?请给我 Json 的回答，不需要原始的问题。如果你需要更多信息可以告诉我\")"
   ]
  },
  {
   "cell_type": "code",
   "execution_count": 5,
   "metadata": {},
   "outputs": [
    {
     "data": {
      "text/plain": [
       "DescTool(name='desc_retriever', description='suppose you can provide some services. When users ask you what you can do, and you can find the answer as service listed: 企业查询: 查询企业的基本信息，如成立时间、注册资本、注册地址、经营范围等\\n企业间投资路径查询: 查询两个企业间的投资路径, 如A企业投资B企业, B企业投资C企业, 那么A企业和C企业间就存在投资路径\\n企业实控人分析: 查询企业的实际控制人，以及实际控制人的股权结构', args_schema=<class 'custom_tools.desc_tool.DescToolInput'>, return_direct=False, verbose=False, callbacks=None, callback_manager=None, handle_tool_error=False, services_desc=[{'SID': '1', 'name': '企业查询', 'description': '查询企业的基本信息，如成立时间、注册资本、注册地址、经营范围等', 'params': [{'name': 'vid', 'type': 'vid', 'entity_type': 'Enterprise', 'description': '知识图谱中的企业ID'}]}, {'SID': '2', 'name': '企业间投资路径查询', 'description': '查询两个企业间的投资路径, 如A企业投资B企业, B企业投资C企业, 那么A企业和C企业间就存在投资路径', 'params': [{'name': 'from_vid', 'type': 'vid', 'entity_type': 'Enterprise', 'description': '知识图谱中的企业ID'}, {'name': 'to_vid', 'type': 'vid', 'entity_type': 'Enterprise', 'description': '知识图谱中的企业ID'}]}, {'SID': '3', 'name': '企业实控人分析', 'description': '查询企业的实际控制人，以及实际控制人的股权结构', 'params': [{'name': 'vid', 'type': 'vid', 'entity_type': 'Enterprise', 'description': '知识图谱中的企业ID'}]}], llm=OpenAI(cache=None, verbose=False, callbacks=None, callback_manager=None, client=<class 'openai.api_resources.completion.Completion'>, model_name='text-davinci-003', temperature=0.7, max_tokens=256, top_p=1, frequency_penalty=0, presence_penalty=0, n=1, best_of=1, model_kwargs={'engine': 'asdavinci003'}, openai_api_key='5cc0b8aef94b47db86c5b8c7f61ab9f2', openai_api_base='https://anyshare-demo-chatgpt.openai.azure.com/', openai_organization='', openai_proxy='', batch_size=20, request_timeout=None, logit_bias={}, max_retries=6, streaming=False, allowed_special=set(), disallowed_special='all'))"
      ]
     },
     "execution_count": 5,
     "metadata": {},
     "output_type": "execute_result"
    }
   ],
   "source": [
    "tool"
   ]
  },
  {
   "cell_type": "code",
   "execution_count": 6,
   "metadata": {},
   "outputs": [
    {
     "name": "stdout",
     "output_type": "stream",
     "text": [
      "\n",
      "\n",
      "\u001b[1m> Entering new  chain...\u001b[0m\n"
     ]
    },
    {
     "name": "stdout",
     "output_type": "stream",
     "text": [
      "\u001b[32;1m\u001b[1;3m 我需要找到一个能够查询实控人的服务\n",
      "Action: desc_retriever\n",
      "Action Input: 企业实控人分析\u001b[0m\n",
      "Observation: \u001b[36;1m\u001b[1;3m{'question': '\\n    %INSTRUCTIONS:\\n    Suppose you have some services which are described in documents. Please find the most relevant service to answer the question.\\n    If more than one service is relevant, please indicate them in [sources] list.\\n    \\n    Please also put the 企业实控人分析 in the [query] field.\\n    \\n    请用中文回答\\n    \\n    %QUESTION:\\n    企业实控人分析\\n', 'answer': ' 企业实控人分析可以查询企业的实际控制人，以及实际控制人的股权结构。\\n', 'sources': '3'}\u001b[0m\n",
      "Thought:\u001b[32;1m\u001b[1;3m 我现在知道需要使用企业实控人分析服务来查询上海爱数的实控人\n",
      "Action: 企业实控人分析\n",
      "Action Input: 上海爱数\u001b[0m\n",
      "Observation: 企业实控人分析 is not a valid tool, try another one.\n",
      "Thought:\u001b[32;1m\u001b[1;3m 我需要使用企业查询服务来查询上海爱数的实控人\n",
      "Action: 企业查询\n",
      "Action Input: 上海爱数\u001b[0m\n",
      "Observation: 企业查询 is not a valid tool, try another one.\n",
      "Thought:\u001b[32;1m\u001b[1;3m 我需要使用desc_retriever来查询上海爱数的实控人\n",
      "Action: desc_retriever\n",
      "Action Input: 上海爱数\u001b[0m\n",
      "Observation: \u001b[36;1m\u001b[1;3m{'question': '\\n    %INSTRUCTIONS:\\n    Suppose you have some services which are described in documents. Please find the most relevant service to answer the question.\\n    If more than one service is relevant, please indicate them in [sources] list.\\n    \\n    Please also put the 上海爱数 in the [query] field.\\n    \\n    请用中文回答\\n    \\n    %QUESTION:\\n    上海爱数\\n', 'answer': ' 企业查询:查询企业的基本信息，如成立时间、注册资本、注册地址、经营范围等\\n', 'sources': '1'}\u001b[0m\n",
      "Thought:\u001b[32;1m\u001b[1;3m 我现在知道可以使用企业查询服务来查询上海爱数的实控人\n",
      "Action: 企业查询\n",
      "Action Input: 上海爱数\u001b[0m\n",
      "Observation: 企业查询 is not a valid tool, try another one.\n",
      "Thought:\u001b[32;1m\u001b[1;3m 我现在知道可以使用desc_retriever来查询上海爱数的实控人\n",
      "Action: desc_retriever\n",
      "Action Input: 上海爱数\u001b[0m\n",
      "Observation: \u001b[36;1m\u001b[1;3m{'question': '\\n    %INSTRUCTIONS:\\n    Suppose you have some services which are described in documents. Please find the most relevant service to answer the question.\\n    If more than one service is relevant, please indicate them in [sources] list.\\n    \\n    Please also put the 上海爱数 in the [query] field.\\n    \\n    请用中文回答\\n    \\n    %QUESTION:\\n    上海爱数\\n', 'answer': ' 企业查询，企业间投资路径查询，企业实控人分析。\\n', 'sources': '1, 2, 3'}\u001b[0m\n",
      "Thought:\u001b[32;1m\u001b[1;3m 我现在知道可以使用企业实控人分析服务来查询上海爱数的实控人\n",
      "Action: 企业实控人分析\n",
      "Action Input: 上海爱数\u001b[0m\n",
      "Observation: 企业实控人分析 is not a valid tool, try another one.\n",
      "Thought:\u001b[32;1m\u001b[1;3m 我现在知道可以使用desc_retriever来查询上海爱数的实控人\n",
      "Action: desc_retriever\n",
      "Action Input: 上海爱数\u001b[0m\n",
      "Observation: \u001b[36;1m\u001b[1;3m{'question': '\\n    %INSTRUCTIONS:\\n    Suppose you have some services which are described in documents. Please find the most relevant service to answer the question.\\n    If more than one service is relevant, please indicate them in [sources] list.\\n    \\n    Please also put the 上海爱数 in the [query] field.\\n    \\n    请用中文回答\\n    \\n    %QUESTION:\\n    上海爱数\\n', 'answer': ' 上海爱数的相关服务有企业查询、企业间投资路径查询和企业实控人分析。\\n', 'sources': '1, 2, 3'}\u001b[0m\n",
      "Thought:\u001b[32;1m\u001b[1;3m 我现在知道需要使用企业查询、企业间投资路径查询和企业实控人分析服务来查询上海爱数的实控人\n",
      "Final Answer: 使用企业查询、企业间投资路径查询和企业实控人分析服务可以查询上海爱数的实控人。\u001b[0m\n",
      "\n",
      "\u001b[1m> Finished chain.\u001b[0m\n"
     ]
    },
    {
     "data": {
      "text/plain": [
       "[{'input': '你能帮我查询上海爱数的实控人吗？如果你需要更多信息，你可以问我',\n",
       "  'output': '使用企业查询、企业间投资路径查询和企业实控人分析服务可以查询上海爱数的实控人。'}]"
      ]
     },
     "execution_count": 6,
     "metadata": {},
     "output_type": "execute_result"
    }
   ],
   "source": [
    "from langchain.agents import AgentType, initialize_agent\n",
    "\n",
    "agent = initialize_agent(\n",
    "    [tool], llm, agent=AgentType.ZERO_SHOT_REACT_DESCRIPTION, verbose=True,\n",
    ")\n",
    "\n",
    "agent.apply([\"你能帮我查询上海爱数的实控人吗？如果你需要更多信息，你可以问我\"])"
   ]
  },
  {
   "cell_type": "code",
   "execution_count": 7,
   "metadata": {},
   "outputs": [
    {
     "data": {
      "text/plain": [
       "{'question': '上海爱数的实控人是谁', 'answer': {'entities': [{'enterprise': '上海爱数'}]}}"
      ]
     },
     "execution_count": 7,
     "metadata": {},
     "output_type": "execute_result"
    }
   ],
   "source": [
    "from __future__ import absolute_import\n",
    "from custom_tools.entity_search import EntitySearchTool\n",
    "\n",
    "entity_search = EntitySearchTool.from_llm(llm)\n",
    "entity_search.run({\"question\": \"上海爱数的实控人是谁\", \"entity_types\": [\"Enterprise\"], \"number\": 1})"
   ]
  },
  {
   "cell_type": "code",
   "execution_count": 8,
   "metadata": {},
   "outputs": [],
   "source": [
    "from langchain.agents import AgentType, initialize_agent"
   ]
  },
  {
   "cell_type": "code",
   "execution_count": 9,
   "metadata": {},
   "outputs": [
    {
     "name": "stdout",
     "output_type": "stream",
     "text": [
      "\n",
      "\n",
      "\u001b[1m> Entering new  chain...\u001b[0m\n",
      "\u001b[32;1m\u001b[1;3m\n",
      "Action:\n",
      "```\n",
      "{\n",
      "  \"action\": \"EntitySearch\",\n",
      "  \"action_input\": {\n",
      "    \"question\": \"你能帮我查询上海爱数的实控人吗？\",\n",
      "    \"entity_types\": [\"Enterprise\", \"Person\"],\n",
      "    \"entity_number\": 1\n",
      "  }\n",
      "}\n",
      "```\n",
      "\n",
      "\u001b[0m\n",
      "Observation: \u001b[33;1m\u001b[1;3m{'question': '你能帮我查询上海爱数的实控人吗？', 'answer': {'entities': [{'enterprise': '上海爱数'}]}}\u001b[0m\n",
      "Thought:\u001b[32;1m\u001b[1;3m Get real control people\n",
      "Action:\n",
      "```\n",
      "{\n",
      "  \"action\": \"企业实控人分析\",\n",
      "  \"action_input\": {\n",
      "    \"question\": \"你能帮我查询上海爱数的实控人吗？\"\n",
      "  }\n",
      "}\n",
      "```\n",
      "\n",
      "\u001b[0m\n",
      "Observation: 企业实控人分析 is not a valid tool, try another one.\n",
      "Thought:\u001b[32;1m\u001b[1;3m Get real control people\n",
      "Action:\n",
      "```\n",
      "{\n",
      "  \"action\": \"desc_retriever\",\n",
      "  \"action_input\": {\n",
      "    \"question\": \"你能帮我查询上海爱数的实控人吗？\"\n",
      "  }\n",
      "}\n",
      "```\n",
      "\u001b[0m\n",
      "Observation: \u001b[36;1m\u001b[1;3m{'question': '\\n    %INSTRUCTIONS:\\n    Suppose you have some services which are described in documents. Please find the most relevant service to answer the question.\\n    If more than one service is relevant, please indicate them in [sources] list.\\n    \\n    Please also put the 你能帮我查询上海爱数的实控人吗？ in the [query] field.\\n    \\n    请用中文回答\\n    \\n    %QUESTION:\\n    你能帮我查询上海爱数的实控人吗？\\n', 'answer': ' 我可以帮助您查询上海爱数的实控人，因为我们提供企业实控人分析服务。\\n', 'sources': '3'}\u001b[0m\n",
      "Thought:\u001b[32;1m\u001b[1;3m Use 企业实控人分析 to get the answer\n",
      "Action:\n",
      "```\n",
      "{\n",
      "  \"action\": \"企业实控人分析\",\n",
      "  \"action_input\": {\n",
      "    \"question\": \"你能帮我查询上海爱数的实控人吗？\"\n",
      "  }\n",
      "}\n",
      "```\n",
      "\n",
      "\u001b[0m\n",
      "Observation: 企业实控人分析 is not a valid tool, try another one.\n",
      "Thought:\u001b[32;1m\u001b[1;3m Get real control people\n",
      "Action:\n",
      "```\n",
      "{\n",
      "  \"action\": \"desc_retriever\",\n",
      "  \"action_input\": {\n",
      "    \"question\": \"你能帮我查询上海爱数的实控人吗？\"\n",
      "  }\n",
      "}\n",
      "```\n",
      "\n",
      "\u001b[0m\n",
      "Observation: \u001b[36;1m\u001b[1;3m{'question': '\\n    %INSTRUCTIONS:\\n    Suppose you have some services which are described in documents. Please find the most relevant service to answer the question.\\n    If more than one service is relevant, please indicate them in [sources] list.\\n    \\n    Please also put the 你能帮我查询上海爱数的实控人吗？ in the [query] field.\\n    \\n    请用中文回答\\n    \\n    %QUESTION:\\n    你能帮我查询上海爱数的实控人吗？\\n', 'answer': ' 我可以帮您查询上海爱数的实控人，我可以使用企业实控人分析服务来查询。\\n', 'sources': '3'}\u001b[0m\n",
      "Thought:\u001b[32;1m\u001b[1;3m Use 企业实控人分析 to get the answer\n",
      "Action:\n",
      "```\n",
      "{\n",
      "  \"action\": \"企业实控人分析\",\n",
      "  \"action_input\": {\n",
      "    \"question\": \"你能帮我查询上海爱数的实控人吗？\"\n",
      "  }\n",
      "}\n",
      "```\n",
      "\n",
      "\u001b[0m\n",
      "Observation: 企业实控人分析 is not a valid tool, try another one.\n",
      "Thought:\u001b[32;1m\u001b[1;3m Get real control people\n",
      "Action:\n",
      "```\n",
      "{\n",
      "  \"action\": \"Final Answer\",\n",
      "  \"action_input\": \"我可以帮您查询上海爱数的实控人，我可以使用企业实控人分析服务来查询。\"\n",
      "}\n",
      "```\n",
      "\n",
      "\u001b[0m\n",
      "\n",
      "\u001b[1m> Finished chain.\u001b[0m\n"
     ]
    },
    {
     "data": {
      "text/plain": [
       "[{'input': '你能帮我查询上海爱数的实控人吗？如果你需要更多信息，你可以问我',\n",
       "  'output': '我可以帮您查询上海爱数的实控人，我可以使用企业实控人分析服务来查询。'}]"
      ]
     },
     "execution_count": 9,
     "metadata": {},
     "output_type": "execute_result"
    }
   ],
   "source": [
    "agent = initialize_agent(\n",
    "    [tool, entity_search], llm, agent=AgentType.STRUCTURED_CHAT_ZERO_SHOT_REACT_DESCRIPTION, verbose=True,\n",
    ")\n",
    "\n",
    "agent.apply([\"你能帮我查询上海爱数的实控人吗？如果你需要更多信息，你可以问我\"])"
   ]
  }
 ],
 "metadata": {
  "kernelspec": {
   "display_name": "venv",
   "language": "python",
   "name": "python3"
  },
  "language_info": {
   "codemirror_mode": {
    "name": "ipython",
    "version": 3
   },
   "file_extension": ".py",
   "mimetype": "text/x-python",
   "name": "python",
   "nbconvert_exporter": "python",
   "pygments_lexer": "ipython3",
   "version": "3.9.17"
  },
  "orig_nbformat": 4
 },
 "nbformat": 4,
 "nbformat_minor": 2
}
