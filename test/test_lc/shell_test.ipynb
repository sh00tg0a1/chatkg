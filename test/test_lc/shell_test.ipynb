{
 "cells": [
  {
   "cell_type": "code",
   "execution_count": 1,
   "metadata": {},
   "outputs": [
    {
     "name": "stdout",
     "output_type": "stream",
     "text": [
      "Hello World!\n",
      "\n",
      "real\t0m0.001s\n",
      "user\t0m0.000s\n",
      "sys\t0m0.000s\n",
      "\n"
     ]
    },
    {
     "name": "stderr",
     "output_type": "stream",
     "text": [
      "/Users/cx/Work/python/chatkg/venv/lib/python3.9/site-packages/langchain/tools/shell/tool.py:33: UserWarning: The shell tool has no safeguards by default. Use at your own risk.\n",
      "  warnings.warn(\n"
     ]
    }
   ],
   "source": [
    "from langchain.tools import ShellTool\n",
    "\n",
    "shell_tool = ShellTool()\n",
    "\n",
    "print(shell_tool.run({\"commands\": [\"echo 'Hello World!'\", \"time\"]}))\n",
    "\n"
   ]
  },
  {
   "cell_type": "code",
   "execution_count": 2,
   "metadata": {},
   "outputs": [
    {
     "name": "stderr",
     "output_type": "stream",
     "text": [
      "WARNING! engine is not default parameter.\n",
      "                    engine was transferred to model_kwargs.\n",
      "                    Please confirm that engine is what you intended.\n"
     ]
    }
   ],
   "source": [
    "from langchain import OpenAI\n",
    "\n",
    "import openai\n",
    "import os\n",
    "\n",
    "OPENAI_API_KEY = os.environ.get(\"OPENAI_API_KEY\")\n",
    "OPENAI_ENDPOINT  = os.environ.get(\"OPENAI_ENDPOINT\")\n",
    "OPENAI_API_VERSION  = os.environ.get(\"OPENAI_API_VERSION\")\n",
    "OPENAI_API_TYPE  = os.environ.get(\"OPENAI_API_TYPE\")\n",
    "\n",
    "openai.api_type = OPENAI_API_TYPE\n",
    "openai.api_base = OPENAI_ENDPOINT\n",
    "openai.api_version = OPENAI_API_VERSION\n",
    "openai.api_key = OPENAI_API_KEY\n",
    "\n",
    "llm = OpenAI(\n",
    "    # engine = \"asada001\",\n",
    "    # engine=\"aschatgpt35\",\n",
    "    engine=\"asdavinci003\",    \n",
    "    # model_kwargs= {\n",
    "    #     \"engine\": \"asdavinci003\",\n",
    "    # },\n",
    "    openai_api_key=OPENAI_API_KEY,\n",
    "    openai_api_base=OPENAI_ENDPOINT,\n",
    ")"
   ]
  },
  {
   "cell_type": "code",
   "execution_count": 6,
   "metadata": {},
   "outputs": [
    {
     "name": "stdout",
     "output_type": "stream",
     "text": [
      "\n",
      "\n",
      "\u001b[1m> Entering new  chain...\u001b[0m\n",
      "\u001b[32;1m\u001b[1;3m\n",
      "Thought: I need to download the webpage to my machine and then grep for the urls\n",
      "Action:\n",
      "```\n",
      "{\n",
      "  \"action\": \"terminal\",\n",
      "  \"action_input\": \"curl https://langchain.com | grep -oE \\\"https?://[^/]+\\\" | sort -u\"\n",
      "}\n",
      "```\n",
      "\u001b[0m"
     ]
    },
    {
     "name": "stderr",
     "output_type": "stream",
     "text": [
      "/Users/cx/Work/python/chatkg/venv/lib/python3.9/site-packages/langchain/tools/shell/tool.py:33: UserWarning: The shell tool has no safeguards by default. Use at your own risk.\n",
      "  warnings.warn(\n"
     ]
    },
    {
     "name": "stdout",
     "output_type": "stream",
     "text": [
      "\n",
      "Observation: \u001b[36;1m\u001b[1;3m  % Total    % Received % Xferd  Average Speed   Time    Time     Time  Current\n",
      "                                 Dload  Upload   Total   Spent    Left  Speed\n",
      "100  2578  100  2578    0     0  12887      0 --:--:-- --:--:-- --:--:-- 13427\n",
      "https://blog.langchain.dev\n",
      "https://discord.gg\n",
      "https://docs.langchain.com\n",
      "https://github.com\n",
      "https://js.langchain.com\n",
      "https://python.langchain.com\n",
      "https://twitter.com\n",
      "\u001b[0m\n",
      "Thought:\u001b[32;1m\u001b[1;3m I now have a sorted list of all urls\n",
      "Final Answer: \n",
      "https://blog.langchain.dev\n",
      "https://discord.gg\n",
      "https://docs.langchain.com\n",
      "https://github.com\n",
      "https://js.langchain.com\n",
      "https://python.langchain.com\n",
      "https://twitter.com\u001b[0m\n",
      "\n",
      "\u001b[1m> Finished chain.\u001b[0m\n"
     ]
    },
    {
     "data": {
      "text/plain": [
       "'https://blog.langchain.dev\\nhttps://discord.gg\\nhttps://docs.langchain.com\\nhttps://github.com\\nhttps://js.langchain.com\\nhttps://python.langchain.com\\nhttps://twitter.com'"
      ]
     },
     "execution_count": 6,
     "metadata": {},
     "output_type": "execute_result"
    }
   ],
   "source": [
    "from langchain.chat_models import ChatOpenAI\n",
    "from langchain.agents import initialize_agent\n",
    "from langchain.agents import AgentType\n",
    "\n",
    "shell_tool.description = shell_tool.description + f\"args {shell_tool.args}\".replace(\n",
    "    \"{\", \"{{\"\n",
    ").replace(\"}\", \"}}\")\n",
    "self_ask_with_search = initialize_agent(\n",
    "    [shell_tool], llm, agent=AgentType.CHAT_ZERO_SHOT_REACT_DESCRIPTION, verbose=True\n",
    ")\n",
    "self_ask_with_search.run(\n",
    "    \"Download the langchain.com webpage and grep for all urls. Return only a sorted list of them. Be sure to use double quotes.\"\n",
    ")"
   ]
  },
  {
   "cell_type": "code",
   "execution_count": 4,
   "metadata": {},
   "outputs": [
    {
     "name": "stdout",
     "output_type": "stream",
     "text": [
      "\n",
      "\n",
      "\u001b[1m> Entering new  chain...\u001b[0m\n",
      "\u001b[32;1m\u001b[1;3m\n",
      "Thought: I need to use the terminal tool to get the directory name and size\n",
      "Action:\n",
      "```\n",
      "{\n",
      "  \"action\": \"terminal\",\n",
      "  \"action_input\": \"pwd && du -sh\"\n",
      "}\n",
      "```\n",
      "\u001b[0m\n",
      "Observation: \u001b[36;1m\u001b[1;3m/Users/cx/Work/python/chatkg/test/test_lc\n",
      "132K\t.\n",
      "\u001b[0m\n",
      "Thought:\u001b[32;1m\u001b[1;3m I now know the final answer\n",
      "\n",
      "Final Answer: 我当前目录名称是/Users/cx/Work/python/chatkg/test/test_lc，占用了132K空间\u001b[0m\n",
      "\n",
      "\u001b[1m> Finished chain.\u001b[0m\n"
     ]
    },
    {
     "data": {
      "text/plain": [
       "'我当前目录名称是/Users/cx/Work/python/chatkg/test/test_lc，占用了132K空间'"
      ]
     },
     "execution_count": 4,
     "metadata": {},
     "output_type": "execute_result"
    }
   ],
   "source": [
    "self_ask_with_search.run(\n",
    "    \"我当前目录名称是什么，占用了多少空间？请用中文回答\"\n",
    ")"
   ]
  },
  {
   "cell_type": "code",
   "execution_count": 6,
   "metadata": {},
   "outputs": [
    {
     "name": "stdout",
     "output_type": "stream",
     "text": [
      "\n",
      "\n",
      "\u001b[1m> Entering new  chain...\u001b[0m\n",
      "\u001b[32;1m\u001b[1;3m\n",
      "\n",
      "Thought: Deleting a file from the current directory should be a simple command\n",
      "Action:\n",
      "```\n",
      "{\n",
      "  \"action\": \"terminal\",\n",
      "  \"action_input\": \"rm a.txt\"\n",
      "}\n",
      "```\n",
      "\u001b[0m\n",
      "Observation: \u001b[36;1m\u001b[1;3mrm: a.txt: No such file or directory\n",
      "\u001b[0m\n",
      "Thought:\u001b[32;1m\u001b[1;3m I should check the spelling of the file\n",
      "Action:\n",
      "```\n",
      "{\n",
      "  \"action\": \"terminal\",\n",
      "  \"action_input\": \"rm A.txt\"\n",
      "}\n",
      "```\n",
      "\n",
      "\u001b[0m\n",
      "Observation: \u001b[36;1m\u001b[1;3mrm: A.txt: No such file or directory\n",
      "\u001b[0m\n",
      "Thought:\u001b[32;1m\u001b[1;3m I should check if the file has the correct case\n",
      "Action:\n",
      "```\n",
      "{\n",
      "  \"action\": \"terminal\",\n",
      "  \"action_input\": \"rm A.TXT\"\n",
      "}\n",
      "```\n",
      "\n",
      "\u001b[0m\n",
      "Observation: \u001b[36;1m\u001b[1;3mrm: A.TXT: No such file or directory\n",
      "\u001b[0m\n",
      "Thought:\u001b[32;1m\u001b[1;3m I should check if the file exists in the directory\n",
      "Action:\n",
      "```\n",
      "{\n",
      "  \"action\": \"terminal\",\n",
      "  \"action_input\": \"ls -a\"\n",
      "}\n",
      "```\n",
      "\n",
      "\n",
      "\u001b[0m\n",
      "Observation: \u001b[36;1m\u001b[1;3m\u001b[1m\u001b[36m.\u001b[m\u001b[m\n",
      "\u001b[1m\u001b[36m..\u001b[m\u001b[m\n",
      "conversational.ipynb\n",
      "conversational.py\n",
      "m3e.py\n",
      "sequential.py\n",
      "shell_test.ipynb\n",
      "test_agent_tools.ipynb\n",
      "\u001b[0m\n",
      "Thought:\u001b[32;1m\u001b[1;3m The file does not exist in the directory\n",
      "Final Answer: The file a.txt does not exist in the current directory.\u001b[0m\n",
      "\n",
      "\u001b[1m> Finished chain.\u001b[0m\n"
     ]
    },
    {
     "data": {
      "text/plain": [
       "'The file a.txt does not exist in the current directory.'"
      ]
     },
     "execution_count": 6,
     "metadata": {},
     "output_type": "execute_result"
    }
   ],
   "source": [
    "self_ask_with_search.run(\n",
    "    \"删除当前目录下的a.txt文件\"\n",
    ")"
   ]
  },
  {
   "cell_type": "code",
   "execution_count": 35,
   "metadata": {},
   "outputs": [
    {
     "data": {
      "text/plain": [
       "'test_lc'"
      ]
     },
     "execution_count": 35,
     "metadata": {},
     "output_type": "execute_result"
    }
   ],
   "source": [
    "from langchain.tools.file_management import (\n",
    "    ReadFileTool,\n",
    "    CopyFileTool,\n",
    "    DeleteFileTool,\n",
    "    MoveFileTool,\n",
    "    WriteFileTool,\n",
    "    ListDirectoryTool,\n",
    "    FileSearchTool\n",
    ")\n",
    "from langchain.agents.agent_toolkits import FileManagementToolkit\n",
    "from tempfile import TemporaryDirectory\n",
    "\n",
    "import pathlib\n",
    "\n",
    "# We'll make a temporary directory to avoid clutter\n",
    "# working_directory = TemporaryDirectory()\n",
    "\n",
    "working_directory = pathlib.Path.cwd()\n",
    "working_directory.name"
   ]
  },
  {
   "cell_type": "code",
   "execution_count": 31,
   "metadata": {},
   "outputs": [
    {
     "data": {
      "text/plain": [
       "[ReadFileTool(name='read_file', description='Read file from disk', args_schema=<class 'langchain.tools.file_management.read.ReadFileInput'>, return_direct=False, verbose=False, callbacks=None, callback_manager=None, handle_tool_error=False, root_dir='/Users/cx/Work/python/chatkg/test/test_lc'),\n",
       " WriteFileTool(name='write_file', description='Write file to disk', args_schema=<class 'langchain.tools.file_management.write.WriteFileInput'>, return_direct=False, verbose=False, callbacks=None, callback_manager=None, handle_tool_error=False, root_dir='/Users/cx/Work/python/chatkg/test/test_lc'),\n",
       " ListDirectoryTool(name='list_directory', description='List files and directories in a specified folder', args_schema=<class 'langchain.tools.file_management.list_dir.DirectoryListingInput'>, return_direct=False, verbose=False, callbacks=None, callback_manager=None, handle_tool_error=False, root_dir='/Users/cx/Work/python/chatkg/test/test_lc'),\n",
       " FileSearchTool(name='file_search', description='Recursively search for files in a subdirectory that match the regex pattern', args_schema=<class 'langchain.tools.file_management.file_search.FileSearchInput'>, return_direct=False, verbose=False, callbacks=None, callback_manager=None, handle_tool_error=False, root_dir='/Users/cx/Work/python/chatkg/test/test_lc')]"
      ]
     },
     "execution_count": 31,
     "metadata": {},
     "output_type": "execute_result"
    }
   ],
   "source": [
    "tools = FileManagementToolkit(\n",
    "    root_dir=str(working_directory),\n",
    "    selected_tools=[\"read_file\", \"write_file\", \"list_directory\", \"file_search\"],\n",
    ").get_tools()\n",
    "tools"
   ]
  },
  {
   "cell_type": "code",
   "execution_count": 32,
   "metadata": {},
   "outputs": [
    {
     "data": {
      "text/plain": [
       "[ReadFileTool(name='read_file', description='Read file from disk', args_schema=<class 'langchain.tools.file_management.read.ReadFileInput'>, return_direct=False, verbose=False, callbacks=None, callback_manager=None, handle_tool_error=False, root_dir='/Users/cx/Work/python/chatkg/test/test_lc'),\n",
       " WriteFileTool(name='write_file', description='Write file to disk', args_schema=<class 'langchain.tools.file_management.write.WriteFileInput'>, return_direct=False, verbose=False, callbacks=None, callback_manager=None, handle_tool_error=False, root_dir='/Users/cx/Work/python/chatkg/test/test_lc'),\n",
       " ListDirectoryTool(name='list_directory', description='List files and directories in a specified folder', args_schema=<class 'langchain.tools.file_management.list_dir.DirectoryListingInput'>, return_direct=False, verbose=False, callbacks=None, callback_manager=None, handle_tool_error=False, root_dir='/Users/cx/Work/python/chatkg/test/test_lc'),\n",
       " FileSearchTool(name='file_search', description='Recursively search for files in a subdirectory that match the regex pattern', args_schema=<class 'langchain.tools.file_management.file_search.FileSearchInput'>, return_direct=False, verbose=False, callbacks=None, callback_manager=None, handle_tool_error=False, root_dir='/Users/cx/Work/python/chatkg/test/test_lc'),\n",
       " ShellTool(name='terminal', description=\"Run shell commands on this MacOS machine.args {{'commands': {{'title': 'Commands', 'description': 'List of shell commands to run. Deserialized using json.loads', 'anyOf': [{{'type': 'string'}}, {{'type': 'array', 'items': {{'type': 'string'}}}}]}}}}\", args_schema=<class 'langchain.tools.shell.tool.ShellInput'>, return_direct=False, verbose=False, callbacks=None, callback_manager=None, handle_tool_error=False, process=<langchain.utilities.bash.BashProcess object at 0x10bd77fa0>)]"
      ]
     },
     "execution_count": 32,
     "metadata": {},
     "output_type": "execute_result"
    }
   ],
   "source": [
    "tools.append(shell_tool)\n",
    "tools"
   ]
  },
  {
   "cell_type": "code",
   "execution_count": 33,
   "metadata": {},
   "outputs": [],
   "source": [
    "\n",
    "file_agent = initialize_agent(\n",
    "    tools, llm, agent=AgentType.STRUCTURED_CHAT_ZERO_SHOT_REACT_DESCRIPTION, verbose=True\n",
    ")\n"
   ]
  },
  {
   "cell_type": "code",
   "execution_count": 34,
   "metadata": {},
   "outputs": [
    {
     "name": "stdout",
     "output_type": "stream",
     "text": [
      "\n",
      "\n",
      "\u001b[1m> Entering new  chain...\u001b[0m\n",
      "\u001b[32;1m\u001b[1;3m\n",
      "Action:\n",
      "```\n",
      "{\n",
      "  \"action\": \"write_file\",\n",
      "  \"action_input\": {\n",
      "    \"file_path\": \"./hello.txt\",\n",
      "    \"text\": \"嗨，世界！\\n你好，美妙的一天。\\n你让我充满快乐，\\n给我希望，给我爱，\\n让我发现梦想，\\nHello World! 我记住你。\"\n",
      "  }\n",
      "}\n",
      "```\n",
      "\n",
      "\u001b[0m\n",
      "Observation: \u001b[33;1m\u001b[1;3mFile written successfully to ./hello.txt.\u001b[0m\n",
      "Thought:\u001b[32;1m\u001b[1;3m Copy the contents of the file to a new file\n",
      "Action:\n",
      "```\n",
      "{\n",
      "  \"action\": \"terminal\",\n",
      "  \"action_input\": {\n",
      "    \"commands\": [\n",
      "      \"cp ./hello.txt ./hello_copy.txt\"\n",
      "    ]\n",
      "  }\n",
      "}\n",
      "```\n",
      "\n",
      "\u001b[0m\n",
      "Observation: \u001b[33;1m\u001b[1;3m\u001b[0m\n",
      "Thought:"
     ]
    },
    {
     "name": "stderr",
     "output_type": "stream",
     "text": [
      "/Users/cx/Work/python/chatkg/venv/lib/python3.9/site-packages/langchain/tools/shell/tool.py:33: UserWarning: The shell tool has no safeguards by default. Use at your own risk.\n",
      "  warnings.warn(\n"
     ]
    },
    {
     "name": "stdout",
     "output_type": "stream",
     "text": [
      "\u001b[32;1m\u001b[1;3m Check if copy was successful\n",
      "Action:\n",
      "```\n",
      "{\n",
      "  \"action\": \"list_directory\",\n",
      "  \"action_input\": {\n",
      "    \"dir_path\": \".\"\n",
      "  }\n",
      "}\n",
      "```\n",
      "\n",
      "\u001b[0m\n",
      "Observation: \u001b[38;5;200m\u001b[1;3mm3e.py\n",
      "conversational.ipynb\n",
      "hello_copy.txt\n",
      "sequential.py\n",
      "test_agent_tools.ipynb\n",
      "conversational.py\n",
      "hello.txt\n",
      "shell_test.ipynb\u001b[0m\n",
      "Thought:\u001b[32;1m\u001b[1;3m Confirm if copy was successful\n",
      "Action:\n",
      "```\n",
      "{\n",
      "  \"action\": \"file_search\",\n",
      "  \"action_input\": {\n",
      "    \"dir_path\": \".\",\n",
      "    \"pattern\": \"hello_copy.txt\"\n",
      "  }\n",
      "}\n",
      "```\n",
      "\n",
      "\u001b[0m\n",
      "Observation: \u001b[36;1m\u001b[1;3mhello_copy.txt\u001b[0m\n",
      "Thought:\u001b[32;1m\u001b[1;3m Final Answer\n",
      "Action:\n",
      "```\n",
      "{\n",
      "  \"action\": \"Final Answer\",\n",
      "  \"action_input\": \"Successfully copied the contents of hello.txt to hello_copy.txt.\"\n",
      "}\n",
      "```\u001b[0m\n",
      "\n",
      "\u001b[1m> Finished chain.\u001b[0m\n"
     ]
    },
    {
     "data": {
      "text/plain": [
       "'Successfully copied the contents of hello.txt to hello_copy.txt.'"
      ]
     },
     "execution_count": 34,
     "metadata": {},
     "output_type": "execute_result"
    }
   ],
   "source": [
    "file_agent.run(\"帮我围绕 'Hello World!' 用中文写一首诗，把内容写入文件当前目录 './hello.txt'，并复制一份。\")"
   ]
  },
  {
   "cell_type": "code",
   "execution_count": 14,
   "metadata": {},
   "outputs": [
    {
     "name": "stdout",
     "output_type": "stream",
     "text": [
      "\n",
      "\n",
      "\u001b[1m> Entering new  chain...\u001b[0m\n",
      "\u001b[32;1m\u001b[1;3mAction:\n",
      "```\n",
      "{\n",
      "  \"action\": \"read_file\",\n",
      "  \"action_input\": {\n",
      "    \"file_path\": \"hello.txt\"\n",
      "  }\n",
      "}\n",
      "```\n",
      "\u001b[0m\n",
      "Observation: \u001b[36;1m\u001b[1;3m你好世界，今天是个好日子\n",
      "满足心所求，梦想可实现\n",
      "迎接光明前程，面对未来展望\n",
      "追求心中欢乐，走出人生路上\u001b[0m\n",
      "Thought:\u001b[32;1m\u001b[1;3m File contents have been read\u001b[0m\n",
      "\n",
      "\u001b[1m> Finished chain.\u001b[0m\n"
     ]
    }
   ],
   "source": [
    "res = file_agent.run(\"读出这个文件的内容'hello.txt'\")"
   ]
  },
  {
   "cell_type": "code",
   "execution_count": 16,
   "metadata": {},
   "outputs": [
    {
     "name": "stdout",
     "output_type": "stream",
     "text": [
      "\n",
      "\n",
      "\u001b[1m> Entering new  chain...\u001b[0m\n",
      "\u001b[32;1m\u001b[1;3mAction: \n",
      "```\n",
      "{\n",
      "  \"action\": \"file_search\",\n",
      "  \"action_input\": {\n",
      "    \"dir_path\": \".\",\n",
      "    \"pattern\": \"*h*\"\n",
      "  }\n",
      "}\n",
      "```\n",
      "\n",
      "\u001b[0m\n",
      "Observation: \u001b[36;1m\u001b[1;3mhello.txt\u001b[0m\n",
      "Thought:\u001b[32;1m\u001b[1;3m I can respond with the name of the file\n",
      "Action:\n",
      "```\n",
      "{\n",
      "  \"action\": \"Final Answer\",\n",
      "  \"action_input\": \"The file you are looking for is hello.txt\"\n",
      "}\n",
      "```\u001b[0m\n",
      "\n",
      "\u001b[1m> Finished chain.\u001b[0m\n"
     ]
    },
    {
     "data": {
      "text/plain": [
       "'The file you are looking for is hello.txt'"
      ]
     },
     "execution_count": 16,
     "metadata": {},
     "output_type": "execute_result"
    }
   ],
   "source": [
    "file_agent.run(input=\"搜索包含 'h' 的文件, 告诉我文件名\")"
   ]
  }
 ],
 "metadata": {
  "kernelspec": {
   "display_name": "venv",
   "language": "python",
   "name": "python3"
  },
  "language_info": {
   "codemirror_mode": {
    "name": "ipython",
    "version": 3
   },
   "file_extension": ".py",
   "mimetype": "text/x-python",
   "name": "python",
   "nbconvert_exporter": "python",
   "pygments_lexer": "ipython3",
   "version": "3.9.17"
  },
  "orig_nbformat": 4
 },
 "nbformat": 4,
 "nbformat_minor": 2
}
